{
  "nbformat": 4,
  "nbformat_minor": 0,
  "metadata": {
    "colab": {
      "name": "Analisis Sentiment(Kasus_UCLdraw).ipynb",
      "provenance": []
    },
    "kernelspec": {
      "name": "python3",
      "display_name": "Python 3"
    }
  },
  "cells": [
    {
      "cell_type": "code",
      "metadata": {
        "id": "dQnwM_HGgU54"
      },
      "source": [
        "import tweepy\r\n",
        "from textblob import TextBlob\r\n",
        "from wordcloud import WordCloud\r\n",
        "import pandas as pd\r\n",
        "import numpy as np\r\n",
        "import re\r\n",
        "import matplotlib.pyplot as plt\r\n",
        "plt.style.use('fivethirtyeight')"
      ],
      "execution_count": null,
      "outputs": []
    },
    {
      "cell_type": "code",
      "metadata": {
        "id": "sooCO6PBg8vD"
      },
      "source": [
        "consumer_key = 'LrSxpWHRWjwa2h8R4SQOZJUIV'\r\n",
        "consumer_secret_key = '8d3xWVMKm6LpXDIbZW930I5eiH0kb0jhtNr8pvSHkABm63qPh9'\r\n",
        "access_token = '1334421915549585408-8HocCnFw9QvWCZLXbei8QL5BrwfFi4'\r\n",
        "access_token_secret = 'DePvAq20EWinXLyCi82cfPYIedfAamMMRXet5L40e8XWO'"
      ],
      "execution_count": null,
      "outputs": []
    },
    {
      "cell_type": "code",
      "metadata": {
        "id": "0zjRittwiL7C"
      },
      "source": [
        "auth = tweepy.OAuthHandler(consumer_key,consumer_secret_key)\r\n",
        "auth.set_access_token(access_token,access_token_secret)\r\n",
        "api = tweepy.API(auth)"
      ],
      "execution_count": null,
      "outputs": []
    },
    {
      "cell_type": "code",
      "metadata": {
        "colab": {
          "base_uri": "https://localhost:8080/"
        },
        "id": "IzoquecYiwud",
        "outputId": "d1b19df4-d4bb-403e-de4f-1accdf92032a"
      },
      "source": [
        "posts = api.user_timeline(screen_name=\"UCLdraw\", count=1000, lang=\"en\", tweet_mode=\"extended\")\r\n",
        "\r\n",
        "# Print the last 10 tweets\r\n",
        "print(\"Show the 10 recent tweets:\\n\")\r\n",
        "i=1\r\n",
        "for tweet in posts[:10]:\r\n",
        "  print(str(i) +') '+ tweet.full_text + '\\n')\r\n",
        "  i= i+1"
      ],
      "execution_count": 110,
      "outputs": [
        {
          "output_type": "stream",
          "text": [
            "Show the 10 recent tweets:\n",
            "\n",
            "1) This is what this season's Round of 16 looks like\n",
            "\n",
            "#UCLdraw https://t.co/QcUL0z9L7M\n",
            "\n",
            "2) Are you happy with this year's last #UCLdraw? \n",
            "\n",
            "Who's your fav team playing?\n",
            "\n",
            "3) And finally, @Atalanta_BC will be playing @realmadrid \n",
            "\n",
            "#UCLdraw\n",
            "\n",
            "4) .@SevillaFC will go against @BVB, no way around it \n",
            "\n",
            "#UCLdraw\n",
            "\n",
            "5) Sixth pairing will be @FCBarcelona @PSG_inside\n",
            "\n",
            "What a match!!!\n",
            "\n",
            "#UCLdraw\n",
            "\n",
            "6) Then @FCPorto will be facing @juventusfc\n",
            "\n",
            "#UCLdraw\n",
            "\n",
            "7) Halftime for #ucldraw:\n",
            "\n",
            "@DieRotenBullen will play against @LFC\n",
            "\n",
            "Great pairings so far, should make for some exciting nights!\n",
            "\n",
            "8) .@Atleti will be facing @ChelseaFC \n",
            "\n",
            "#UCLdraw\n",
            "\n",
            "9) Second match will be\n",
            "\n",
            "@OfficialSSLazio vs @FCBayern\n",
            "\n",
            "#UCLdraw\n",
            "\n",
            "10) HERE WE GO!\n",
            "\n",
            "First pairing for the Round of 16 will be\n",
            "@borussia vs @ManCity \n",
            "\n",
            "#UCLdraw\n",
            "\n"
          ],
          "name": "stdout"
        }
      ]
    },
    {
      "cell_type": "code",
      "metadata": {
        "colab": {
          "base_uri": "https://localhost:8080/",
          "height": 204
        },
        "id": "eMZ6jHMeopkH",
        "outputId": "4b239188-522c-49c6-80ea-f07a59fb72d9"
      },
      "source": [
        "df = pd.DataFrame([tweet.full_text for tweet in posts], columns=['Tweets'])\r\n",
        "#Show the first 10 rows of data\r\n",
        "df.head()"
      ],
      "execution_count": 111,
      "outputs": [
        {
          "output_type": "execute_result",
          "data": {
            "text/html": [
              "<div>\n",
              "<style scoped>\n",
              "    .dataframe tbody tr th:only-of-type {\n",
              "        vertical-align: middle;\n",
              "    }\n",
              "\n",
              "    .dataframe tbody tr th {\n",
              "        vertical-align: top;\n",
              "    }\n",
              "\n",
              "    .dataframe thead th {\n",
              "        text-align: right;\n",
              "    }\n",
              "</style>\n",
              "<table border=\"1\" class=\"dataframe\">\n",
              "  <thead>\n",
              "    <tr style=\"text-align: right;\">\n",
              "      <th></th>\n",
              "      <th>Tweets</th>\n",
              "    </tr>\n",
              "  </thead>\n",
              "  <tbody>\n",
              "    <tr>\n",
              "      <th>0</th>\n",
              "      <td>This is what this season's Round of 16 looks l...</td>\n",
              "    </tr>\n",
              "    <tr>\n",
              "      <th>1</th>\n",
              "      <td>Are you happy with this year's last #UCLdraw? ...</td>\n",
              "    </tr>\n",
              "    <tr>\n",
              "      <th>2</th>\n",
              "      <td>And finally, @Atalanta_BC will be playing @rea...</td>\n",
              "    </tr>\n",
              "    <tr>\n",
              "      <th>3</th>\n",
              "      <td>.@SevillaFC will go against @BVB, no way aroun...</td>\n",
              "    </tr>\n",
              "    <tr>\n",
              "      <th>4</th>\n",
              "      <td>Sixth pairing will be @FCBarcelona @PSG_inside...</td>\n",
              "    </tr>\n",
              "  </tbody>\n",
              "</table>\n",
              "</div>"
            ],
            "text/plain": [
              "                                              Tweets\n",
              "0  This is what this season's Round of 16 looks l...\n",
              "1  Are you happy with this year's last #UCLdraw? ...\n",
              "2  And finally, @Atalanta_BC will be playing @rea...\n",
              "3  .@SevillaFC will go against @BVB, no way aroun...\n",
              "4  Sixth pairing will be @FCBarcelona @PSG_inside..."
            ]
          },
          "metadata": {
            "tags": []
          },
          "execution_count": 111
        }
      ]
    },
    {
      "cell_type": "code",
      "metadata": {
        "colab": {
          "base_uri": "https://localhost:8080/",
          "height": 419
        },
        "id": "SI9UjSM8pp1A",
        "outputId": "5bc8647f-ff48-4d5d-9f01-6b2db45cb54a"
      },
      "source": [
        "# Create a function to clean the tweets\r\n",
        "def cleanTxt(text):\r\n",
        " text = re.sub('@[A-Za-z0–9]+', '', text) #Removing @mentions\r\n",
        " text = re.sub('#', '', text) # Removing '#' hash tag\r\n",
        " text = re.sub('RT[\\s]+', '', text) # Removing RT\r\n",
        " text = re.sub('https?:\\/\\/\\S+', '', text) # Removing hyperlink\r\n",
        " \r\n",
        " return text\r\n",
        "\r\n",
        "\r\n",
        "# Clean the tweets\r\n",
        "df['Tweets'] = df['Tweets'].apply(cleanTxt)\r\n",
        "\r\n",
        "# Show the cleaned tweets\r\n",
        "df"
      ],
      "execution_count": 112,
      "outputs": [
        {
          "output_type": "execute_result",
          "data": {
            "text/html": [
              "<div>\n",
              "<style scoped>\n",
              "    .dataframe tbody tr th:only-of-type {\n",
              "        vertical-align: middle;\n",
              "    }\n",
              "\n",
              "    .dataframe tbody tr th {\n",
              "        vertical-align: top;\n",
              "    }\n",
              "\n",
              "    .dataframe thead th {\n",
              "        text-align: right;\n",
              "    }\n",
              "</style>\n",
              "<table border=\"1\" class=\"dataframe\">\n",
              "  <thead>\n",
              "    <tr style=\"text-align: right;\">\n",
              "      <th></th>\n",
              "      <th>Tweets</th>\n",
              "    </tr>\n",
              "  </thead>\n",
              "  <tbody>\n",
              "    <tr>\n",
              "      <th>0</th>\n",
              "      <td>This is what this season's Round of 16 looks l...</td>\n",
              "    </tr>\n",
              "    <tr>\n",
              "      <th>1</th>\n",
              "      <td>Are you happy with this year's last UCLdraw? \\...</td>\n",
              "    </tr>\n",
              "    <tr>\n",
              "      <th>2</th>\n",
              "      <td>And finally, _BC will be playing  \\n\\nUCLdraw</td>\n",
              "    </tr>\n",
              "    <tr>\n",
              "      <th>3</th>\n",
              "      <td>. will go against , no way around it \\n\\nUCLdraw</td>\n",
              "    </tr>\n",
              "    <tr>\n",
              "      <th>4</th>\n",
              "      <td>Sixth pairing will be  _inside\\n\\nWhat a match...</td>\n",
              "    </tr>\n",
              "    <tr>\n",
              "      <th>...</th>\n",
              "      <td>...</td>\n",
              "    </tr>\n",
              "    <tr>\n",
              "      <th>186</th>\n",
              "      <td>Fifth draw: Paris Saint Germain ucldraw</td>\n",
              "    </tr>\n",
              "    <tr>\n",
              "      <th>187</th>\n",
              "      <td>Real will be playing Dortmund! ucldraw</td>\n",
              "    </tr>\n",
              "    <tr>\n",
              "      <th>188</th>\n",
              "      <td>Third draw: Real Madrid ucldraw</td>\n",
              "    </tr>\n",
              "    <tr>\n",
              "      <th>189</th>\n",
              "      <td>Barcelona facing Atletico! ucldraw</td>\n",
              "    </tr>\n",
              "    <tr>\n",
              "      <th>190</th>\n",
              "      <td>First draw: FC Barcelona! ucldraw</td>\n",
              "    </tr>\n",
              "  </tbody>\n",
              "</table>\n",
              "<p>191 rows × 1 columns</p>\n",
              "</div>"
            ],
            "text/plain": [
              "                                                Tweets\n",
              "0    This is what this season's Round of 16 looks l...\n",
              "1    Are you happy with this year's last UCLdraw? \\...\n",
              "2        And finally, _BC will be playing  \\n\\nUCLdraw\n",
              "3     . will go against , no way around it \\n\\nUCLdraw\n",
              "4    Sixth pairing will be  _inside\\n\\nWhat a match...\n",
              "..                                                 ...\n",
              "186            Fifth draw: Paris Saint Germain ucldraw\n",
              "187             Real will be playing Dortmund! ucldraw\n",
              "188                    Third draw: Real Madrid ucldraw\n",
              "189                 Barcelona facing Atletico! ucldraw\n",
              "190                  First draw: FC Barcelona! ucldraw\n",
              "\n",
              "[191 rows x 1 columns]"
            ]
          },
          "metadata": {
            "tags": []
          },
          "execution_count": 112
        }
      ]
    },
    {
      "cell_type": "code",
      "metadata": {
        "colab": {
          "base_uri": "https://localhost:8080/",
          "height": 419
        },
        "id": "PSScL2-KrajN",
        "outputId": "bb561a98-8efc-4a1c-e1d8-91282e79ce83"
      },
      "source": [
        "# Create a function to get the subjectivity\r\n",
        "def getSubjectivity(text):\r\n",
        "   return TextBlob(text).sentiment.subjectivity\r\n",
        "\r\n",
        "# Create a function to get the polarity\r\n",
        "def getPolarity(text):\r\n",
        "   return  TextBlob(text).sentiment.polarity\r\n",
        "\r\n",
        "\r\n",
        "# Create two new columns 'Subjectivity' & 'Polarity'\r\n",
        "df['Subjectivity'] = df['Tweets'].apply(getSubjectivity)\r\n",
        "df['Polarity'] = df['Tweets'].apply(getPolarity)\r\n",
        "\r\n",
        "# Show the new dataframe with columns 'Subjectivity' & 'Polarity'\r\n",
        "df"
      ],
      "execution_count": 113,
      "outputs": [
        {
          "output_type": "execute_result",
          "data": {
            "text/html": [
              "<div>\n",
              "<style scoped>\n",
              "    .dataframe tbody tr th:only-of-type {\n",
              "        vertical-align: middle;\n",
              "    }\n",
              "\n",
              "    .dataframe tbody tr th {\n",
              "        vertical-align: top;\n",
              "    }\n",
              "\n",
              "    .dataframe thead th {\n",
              "        text-align: right;\n",
              "    }\n",
              "</style>\n",
              "<table border=\"1\" class=\"dataframe\">\n",
              "  <thead>\n",
              "    <tr style=\"text-align: right;\">\n",
              "      <th></th>\n",
              "      <th>Tweets</th>\n",
              "      <th>Subjectivity</th>\n",
              "      <th>Polarity</th>\n",
              "    </tr>\n",
              "  </thead>\n",
              "  <tbody>\n",
              "    <tr>\n",
              "      <th>0</th>\n",
              "      <td>This is what this season's Round of 16 looks l...</td>\n",
              "      <td>0.400000</td>\n",
              "      <td>-0.2000</td>\n",
              "    </tr>\n",
              "    <tr>\n",
              "      <th>1</th>\n",
              "      <td>Are you happy with this year's last UCLdraw? \\...</td>\n",
              "      <td>0.533333</td>\n",
              "      <td>0.4000</td>\n",
              "    </tr>\n",
              "    <tr>\n",
              "      <th>2</th>\n",
              "      <td>And finally, _BC will be playing  \\n\\nUCLdraw</td>\n",
              "      <td>1.000000</td>\n",
              "      <td>0.0000</td>\n",
              "    </tr>\n",
              "    <tr>\n",
              "      <th>3</th>\n",
              "      <td>. will go against , no way around it \\n\\nUCLdraw</td>\n",
              "      <td>0.000000</td>\n",
              "      <td>0.0000</td>\n",
              "    </tr>\n",
              "    <tr>\n",
              "      <th>4</th>\n",
              "      <td>Sixth pairing will be  _inside\\n\\nWhat a match...</td>\n",
              "      <td>0.000000</td>\n",
              "      <td>0.0000</td>\n",
              "    </tr>\n",
              "    <tr>\n",
              "      <th>...</th>\n",
              "      <td>...</td>\n",
              "      <td>...</td>\n",
              "      <td>...</td>\n",
              "    </tr>\n",
              "    <tr>\n",
              "      <th>186</th>\n",
              "      <td>Fifth draw: Paris Saint Germain ucldraw</td>\n",
              "      <td>0.000000</td>\n",
              "      <td>0.0000</td>\n",
              "    </tr>\n",
              "    <tr>\n",
              "      <th>187</th>\n",
              "      <td>Real will be playing Dortmund! ucldraw</td>\n",
              "      <td>0.300000</td>\n",
              "      <td>0.2500</td>\n",
              "    </tr>\n",
              "    <tr>\n",
              "      <th>188</th>\n",
              "      <td>Third draw: Real Madrid ucldraw</td>\n",
              "      <td>0.150000</td>\n",
              "      <td>0.1000</td>\n",
              "    </tr>\n",
              "    <tr>\n",
              "      <th>189</th>\n",
              "      <td>Barcelona facing Atletico! ucldraw</td>\n",
              "      <td>0.000000</td>\n",
              "      <td>0.0000</td>\n",
              "    </tr>\n",
              "    <tr>\n",
              "      <th>190</th>\n",
              "      <td>First draw: FC Barcelona! ucldraw</td>\n",
              "      <td>0.333333</td>\n",
              "      <td>0.3125</td>\n",
              "    </tr>\n",
              "  </tbody>\n",
              "</table>\n",
              "<p>191 rows × 3 columns</p>\n",
              "</div>"
            ],
            "text/plain": [
              "                                                Tweets  Subjectivity  Polarity\n",
              "0    This is what this season's Round of 16 looks l...      0.400000   -0.2000\n",
              "1    Are you happy with this year's last UCLdraw? \\...      0.533333    0.4000\n",
              "2        And finally, _BC will be playing  \\n\\nUCLdraw      1.000000    0.0000\n",
              "3     . will go against , no way around it \\n\\nUCLdraw      0.000000    0.0000\n",
              "4    Sixth pairing will be  _inside\\n\\nWhat a match...      0.000000    0.0000\n",
              "..                                                 ...           ...       ...\n",
              "186            Fifth draw: Paris Saint Germain ucldraw      0.000000    0.0000\n",
              "187             Real will be playing Dortmund! ucldraw      0.300000    0.2500\n",
              "188                    Third draw: Real Madrid ucldraw      0.150000    0.1000\n",
              "189                 Barcelona facing Atletico! ucldraw      0.000000    0.0000\n",
              "190                  First draw: FC Barcelona! ucldraw      0.333333    0.3125\n",
              "\n",
              "[191 rows x 3 columns]"
            ]
          },
          "metadata": {
            "tags": []
          },
          "execution_count": 113
        }
      ]
    },
    {
      "cell_type": "code",
      "metadata": {
        "colab": {
          "base_uri": "https://localhost:8080/",
          "height": 248
        },
        "id": "juZ0JXiIrhNV",
        "outputId": "5fd79455-71cb-43ed-eb28-d4a4b0622623"
      },
      "source": [
        "# word cloud visualization\r\n",
        "allWords = ' '.join([twts for twts in df['Tweets']])\r\n",
        "wordCloud = WordCloud(width=800, height=600, random_state=18, max_font_size=700).generate(allWords)\r\n",
        "\r\n",
        "\r\n",
        "plt.imshow(wordCloud, interpolation=\"bilinear\")\r\n",
        "plt.axis('off')\r\n",
        "plt.show()"
      ],
      "execution_count": 114,
      "outputs": [
        {
          "output_type": "display_data",
          "data": {
            "image/png": "[encoded data removed]",
            "text/plain": [
              "<Figure size 432x288 with 1 Axes>"
            ]
          },
          "metadata": {
            "tags": [],
            "needs_background": "light"
          }
        }
      ]
    },
    {
      "cell_type": "code",
      "metadata": {
        "colab": {
          "base_uri": "https://localhost:8080/"
        },
        "id": "Ae9EjzmqsEdW",
        "outputId": "9be955c8-549d-4a0a-c275-0b10beb30a5b"
      },
      "source": [
        "pip install WordCloud"
      ],
      "execution_count": null,
      "outputs": [
        {
          "output_type": "stream",
          "text": [
            "Requirement already satisfied: WordCloud in /usr/local/lib/python3.6/dist-packages (1.5.0)\n",
            "Requirement already satisfied: pillow in /usr/local/lib/python3.6/dist-packages (from WordCloud) (7.0.0)\n",
            "Requirement already satisfied: numpy>=1.6.1 in /usr/local/lib/python3.6/dist-packages (from WordCloud) (1.18.5)\n"
          ],
          "name": "stdout"
        }
      ]
    },
    {
      "cell_type": "code",
      "metadata": {
        "colab": {
          "base_uri": "https://localhost:8080/",
          "height": 419
        },
        "id": "AoTFIwtdsLd6",
        "outputId": "3e535d71-1934-4616-ae6d-0ea11d223245"
      },
      "source": [
        "# Create a function to compute negative (-1), neutral (0) and positive (+1) analysis\r\n",
        "def getAnalysis(score):\r\n",
        " if score < 0:\r\n",
        "  return 'Negative'\r\n",
        " elif score == 0:\r\n",
        "  return 'Neutral'\r\n",
        " else:\r\n",
        "  return 'Positive'\r\n",
        "df['Analysis'] = df['Polarity'].apply(getAnalysis)\r\n",
        "# Show the dataframe\r\n",
        "df"
      ],
      "execution_count": 115,
      "outputs": [
        {
          "output_type": "execute_result",
          "data": {
            "text/html": [
              "<div>\n",
              "<style scoped>\n",
              "    .dataframe tbody tr th:only-of-type {\n",
              "        vertical-align: middle;\n",
              "    }\n",
              "\n",
              "    .dataframe tbody tr th {\n",
              "        vertical-align: top;\n",
              "    }\n",
              "\n",
              "    .dataframe thead th {\n",
              "        text-align: right;\n",
              "    }\n",
              "</style>\n",
              "<table border=\"1\" class=\"dataframe\">\n",
              "  <thead>\n",
              "    <tr style=\"text-align: right;\">\n",
              "      <th></th>\n",
              "      <th>Tweets</th>\n",
              "      <th>Subjectivity</th>\n",
              "      <th>Polarity</th>\n",
              "      <th>Analysis</th>\n",
              "    </tr>\n",
              "  </thead>\n",
              "  <tbody>\n",
              "    <tr>\n",
              "      <th>0</th>\n",
              "      <td>This is what this season's Round of 16 looks l...</td>\n",
              "      <td>0.400000</td>\n",
              "      <td>-0.2000</td>\n",
              "      <td>Negative</td>\n",
              "    </tr>\n",
              "    <tr>\n",
              "      <th>1</th>\n",
              "      <td>Are you happy with this year's last UCLdraw? \\...</td>\n",
              "      <td>0.533333</td>\n",
              "      <td>0.4000</td>\n",
              "      <td>Positive</td>\n",
              "    </tr>\n",
              "    <tr>\n",
              "      <th>2</th>\n",
              "      <td>And finally, _BC will be playing  \\n\\nUCLdraw</td>\n",
              "      <td>1.000000</td>\n",
              "      <td>0.0000</td>\n",
              "      <td>Neutral</td>\n",
              "    </tr>\n",
              "    <tr>\n",
              "      <th>3</th>\n",
              "      <td>. will go against , no way around it \\n\\nUCLdraw</td>\n",
              "      <td>0.000000</td>\n",
              "      <td>0.0000</td>\n",
              "      <td>Neutral</td>\n",
              "    </tr>\n",
              "    <tr>\n",
              "      <th>4</th>\n",
              "      <td>Sixth pairing will be  _inside\\n\\nWhat a match...</td>\n",
              "      <td>0.000000</td>\n",
              "      <td>0.0000</td>\n",
              "      <td>Neutral</td>\n",
              "    </tr>\n",
              "    <tr>\n",
              "      <th>...</th>\n",
              "      <td>...</td>\n",
              "      <td>...</td>\n",
              "      <td>...</td>\n",
              "      <td>...</td>\n",
              "    </tr>\n",
              "    <tr>\n",
              "      <th>186</th>\n",
              "      <td>Fifth draw: Paris Saint Germain ucldraw</td>\n",
              "      <td>0.000000</td>\n",
              "      <td>0.0000</td>\n",
              "      <td>Neutral</td>\n",
              "    </tr>\n",
              "    <tr>\n",
              "      <th>187</th>\n",
              "      <td>Real will be playing Dortmund! ucldraw</td>\n",
              "      <td>0.300000</td>\n",
              "      <td>0.2500</td>\n",
              "      <td>Positive</td>\n",
              "    </tr>\n",
              "    <tr>\n",
              "      <th>188</th>\n",
              "      <td>Third draw: Real Madrid ucldraw</td>\n",
              "      <td>0.150000</td>\n",
              "      <td>0.1000</td>\n",
              "      <td>Positive</td>\n",
              "    </tr>\n",
              "    <tr>\n",
              "      <th>189</th>\n",
              "      <td>Barcelona facing Atletico! ucldraw</td>\n",
              "      <td>0.000000</td>\n",
              "      <td>0.0000</td>\n",
              "      <td>Neutral</td>\n",
              "    </tr>\n",
              "    <tr>\n",
              "      <th>190</th>\n",
              "      <td>First draw: FC Barcelona! ucldraw</td>\n",
              "      <td>0.333333</td>\n",
              "      <td>0.3125</td>\n",
              "      <td>Positive</td>\n",
              "    </tr>\n",
              "  </tbody>\n",
              "</table>\n",
              "<p>191 rows × 4 columns</p>\n",
              "</div>"
            ],
            "text/plain": [
              "                                                Tweets  ...  Analysis\n",
              "0    This is what this season's Round of 16 looks l...  ...  Negative\n",
              "1    Are you happy with this year's last UCLdraw? \\...  ...  Positive\n",
              "2        And finally, _BC will be playing  \\n\\nUCLdraw  ...   Neutral\n",
              "3     . will go against , no way around it \\n\\nUCLdraw  ...   Neutral\n",
              "4    Sixth pairing will be  _inside\\n\\nWhat a match...  ...   Neutral\n",
              "..                                                 ...  ...       ...\n",
              "186            Fifth draw: Paris Saint Germain ucldraw  ...   Neutral\n",
              "187             Real will be playing Dortmund! ucldraw  ...  Positive\n",
              "188                    Third draw: Real Madrid ucldraw  ...  Positive\n",
              "189                 Barcelona facing Atletico! ucldraw  ...   Neutral\n",
              "190                  First draw: FC Barcelona! ucldraw  ...  Positive\n",
              "\n",
              "[191 rows x 4 columns]"
            ]
          },
          "metadata": {
            "tags": []
          },
          "execution_count": 115
        }
      ]
    },
    {
      "cell_type": "code",
      "metadata": {
        "colab": {
          "base_uri": "https://localhost:8080/"
        },
        "id": "FyBxyXxpsZbl",
        "outputId": "31821f20-544a-448f-e002-29bd5d9015dc"
      },
      "source": [
        "# Printing positive tweets \r\n",
        "print('Printing positive tweets:\\n')\r\n",
        "j=1\r\n",
        "sortedDF = df.sort_values(by=['Polarity']) #Sort the tweets\r\n",
        "for i in range(0, sortedDF.shape[0] ):\r\n",
        "  if( sortedDF['Analysis'][i] == 'Positive'):\r\n",
        "    print(str(j) + ') '+ sortedDF['Tweets'][i])\r\n",
        "    print()\r\n",
        "    j= j+1"
      ],
      "execution_count": 116,
      "outputs": [
        {
          "output_type": "stream",
          "text": [
            "Printing positive tweets:\n",
            "\n",
            "1) Are you happy with this year's last UCLdraw? \n",
            "\n",
            "Who's your fav team playing?\n",
            "\n",
            "2) Halftime for ucldraw:\n",
            "\n",
            " will play against \n",
            "\n",
            "Great pairings so far, should make for some exciting nights!\n",
            "\n",
            "3) HERE WE GO!\n",
            "\n",
            "First pairing for the Round of 16 will be\n",
            " vs  \n",
            "\n",
            "UCLdraw\n",
            "\n",
            "4) Less than 24 hours to go for the next and this year's last UCLdraw.\n",
            "Are you as excited to see the pairings of the Last 16 as we are?\n",
            "\n",
            "Who would you like your fav team to get? Let us know!\n",
            "\n",
            "5) Pot 4 is done, too.\n",
            "\n",
            "This concludes this season's first UCLdraw\n",
            "\n",
            "Are you happy with the outcome?\n",
            "What game are you looking forward to watching in particular?\n",
            "\n",
            "Let us know! 👍 \n",
            "\n",
            "6) Pot 4 is done, too.\n",
            "\n",
            "This concludes this season's first UCLdraw! \n",
            "\n",
            "Are you happy with the outcome?\n",
            "What game are you looking forward to watching in particular?\n",
            "\n",
            "Let us know! 👍 \n",
            "\n",
            "7) Pots 1 and 2 drawn\n",
            "\n",
            "I don't know what game to watch, they're ALL amazing so far! 🤩\n",
            "\n",
            "ucldraw \n",
            "\n",
            "8) Bayern - Atleti should make for an interesting evening!\n",
            "Classic right off the bat.\n",
            "\n",
            "ucldraw\n",
            "\n",
            "9) Pot 1 drawn.\n",
            "\n",
            "With pot 2, it should start to get interesting 😎\n",
            "\n",
            "ucldraw \n",
            "\n",
            "10) Less than 24 hours until this season’s first UCLDraw!\n",
            "\n",
            "if you’re EXCITED already! 🤗\n",
            "\n",
            "11) The verdict is in!\n",
            "\n",
            "Are you happy with the UCLdraw? \n",
            "\n",
            "12) Only a few more hours until this year‘s last UCLdraw!\n",
            "\n",
            "Who is psyched yet?!?\n",
            "What opponent are you hoping for for your team?\n",
            "\n",
            "13) This is it!\n",
            "\n",
            "Are you happy with the outcome?\n",
            "\n",
            "ucldraw \n",
            "\n",
            "14) Pot 4 left to be drawn.\n",
            "\n",
            "How does it look for your fav team so far?\n",
            "\n",
            "ucldraw \n",
            "\n",
            "15) 2 out of 4 pots drawn.\n",
            "\n",
            "I cant wait for the group stage to begin!\n",
            "PSG vs Real, OMG! \n",
            "\n",
            "ucldraw \n",
            "\n",
            "16) Pot 2 hasnt been drawn yet entirely and we've got the first amazing matches.\n",
            "\n",
            "Bayern will be facing Tottenham and\n",
            "Barcelona will have to deal with Dortmund!\n",
            "\n",
            "ucldraw\n",
            "\n",
            "17) Excited yet? 😎 🏆\n",
            "\n",
            "ucldraw \n",
            "\n",
            "18) Only a couple more hours!!!\n",
            "\n",
            "ucldraw \n",
            "\n",
            "19) Teams qualified for the 2019/20 UCL:\n",
            "\n",
            "🇪🇸 Barcelona\n",
            "🇪🇸 Atletico\n",
            "🇪🇸 Real Madrid\n",
            "🇪🇸 Valencia\n",
            "🏴󠁧󠁢󠁥󠁮󠁧󠁿 Man City\n",
            "🏴󠁧󠁢󠁥󠁮󠁧󠁿 Liverpool\n",
            "🏴󠁧󠁢󠁥󠁮󠁧󠁿 Chelsea\n",
            "🏴󠁧󠁢󠁥󠁮󠁧󠁿 Tottenham\n",
            "🇮🇹 Juventus\n",
            "🇮🇹 Napoli\n",
            "🇩🇪 Bayern\n",
            "🇩🇪 Dortmund\n",
            "🇩🇪 Leipzig\n",
            "🇩🇪 Leverkusen\n",
            "🇫🇷 PSG\n",
            "🇫🇷 Lille\n",
            "🇷🇺 Zenit\n",
            "🇵🇹 Benfica\n",
            "🇧🇪 Genk\n",
            "🇦🇹 Salzburg\n",
            "\n",
            "ucldraw\n",
            "\n",
            "20) And last but not least:\n",
            " vs  \n",
            "\n",
            "ucldraw\n",
            "\n",
            "21) The first pairing will be  vs  \n",
            "\n",
            "ucldraw\n",
            "\n",
            "22) ARE. YOU. READY. TO. GO?!?!\n",
            "\n",
            "ucldraw QuarterFinals \n",
            "\n",
            "23) The next UCLDraw will be on March 15, 2019 so save the date!\n",
            "\n",
            "To everyone celebrating, we wish Merry Christmas and a Happy New Year! Stay healthy!\n",
            "\n",
            "24) The result of this year's final UCLdraw \n",
            "\n",
            "Are you happy with who your fav team has to face? \n",
            "\n",
            "25) Only 3 more days until this year‘s last UCLDraw!\n",
            "The best 16 teams will be paired on\n",
            "Monday at 12 pm, don’t miss it!\n",
            "\n",
            "26) Three more weeks until this year‘s last UCLDraw!\n",
            "\n",
            "How‘s your favorite team doing so far?\n",
            "\n",
            "27) Ladies and gentlemen,\n",
            "this season's Champions League group stage.\n",
            "Some great matches are waiting. Are you happy with what your favorite team has to deal with?\n",
            "\n",
            "ucldraw \n",
            "\n",
            "28) Only one more pot to be drawn.\n",
            "Already some great matches ahead of us! Can't wait!\n",
            "\n",
            "ucldraw \n",
            "\n",
            "29) This is what the group stage looks like after drawing pot 1 and pot 2.\n",
            "Two more pots to come, stay tuned!\n",
            "\n",
            "ucldraw \n",
            "\n",
            "30) A little over 3 hours to go.\n",
            "\n",
            "WHO’S EXCITED FOR THIS SEASON’S FIRST UCLDRAW?\n",
            "\n",
            "31) Second draw is  vs .\n",
            "\n",
            "Should make for some interesting entertainment.\n",
            "UCLDraw\n",
            "\n",
            "32) First draw is  vs !\n",
            "WHAT. A. MATCH.\n",
            "\n",
            "ucldraw\n",
            "\n",
            "33) Ready for the quarter finals?\n",
            "These are the teams left in the competition.\n",
            "\n",
            "ucldraw \n",
            "\n",
            "34) Fifth is a nice one:\n",
            " vs _inside\n",
            "\n",
            "35) First draw is  vs \n",
            "\n",
            "36) Only one pot remaining.\n",
            "We'll know more in a few minutes...\n",
            "\n",
            "UCLdraw \n",
            "\n",
            "37) Pots 1 and 2 assigned.\n",
            "This should make for some interesting matches!\n",
            "Two more rounds to come.\n",
            "\n",
            "UCLdraw \n",
            "\n",
            "38) Pot 1 assigned to groups A to H.\n",
            "More to follow!\n",
            "\n",
            "UCLdraw \n",
            "\n",
            "39) Just one hour to go until the first ucldraw of the new season!\n",
            "Are you as excited as I am?\n",
            "Who would you like your team to face?\n",
            "\n",
            "40) The team drawn first will be playing at home in the 1st leg.\n",
            "\n",
            "UCLdraw\n",
            "\n",
            "41) Last but not least:\n",
            "Sevilla will be taking on Leicester.\n",
            "\n",
            "ucldraw\n",
            "\n",
            "42) 2nd pairing will be Real Madrid vs. SSC Napoli\n",
            "\n",
            "ucldraw\n",
            "\n",
            "43) Only three more hours!\n",
            "Who are you rooting for and who would you like your team to face?\n",
            "ucldraw roundof16 \n",
            "\n",
            "44) Who will play this year's semifinals? Who do you want your favorite team to face?\n",
            "\n",
            "ucldraw fcbayern atleti real mcfc\n",
            "\n",
            "45) First draw being.......\n",
            "_Wolfsburg \n",
            "ucldraw\n",
            "\n",
            "46) Less than 24 hours left!\n",
            "Who are you rooting for? Who would you like to play?\n",
            "excited ucldraw\n",
            "\n",
            "47) First draw is . They'll be facing _Wolfsburg\n",
            "\n",
            "48) First draw:  will be facing !!!\n",
            "Barcelona at home in 1st leg.\n",
            "ucldraw\n",
            "\n",
            "49) A couple more minutes till the last ucldraw for this season.\n",
            "Excited yet? 😉\n",
            "fcbayern juventus realmadrid fcbarcelona\n",
            "\n",
            "50) Last but not least:  vs _Monaco \n",
            "UCLdraw\n",
            "\n",
            "51) ._inside will be facing \n",
            "This should be interesting!\n",
            "UCLdraw\n",
            "\n",
            "52) Next draw will be on 20 March, 2015 at noon.\n",
            "Looking forward to seeing you then!\n",
            "Have a good new year everybody!\n",
            "ucldraw\n",
            "\n",
            "53) Here we go: First pairing is _inside (runner-up) facing  \n",
            "ucldraw\n",
            "\n",
            "54) 10 more minutes! Which is your favourite team and who do you want it to play in the round of 16?\n",
            "UCLdraw\n",
            "\n",
            "55) We're pretty much ready to get going! How bout you?\n",
            "ucldraw\n",
            "\n",
            "56) What do you think about the draw? Satisfied for your favorite club?\n",
            "ucldraw\n",
            "\n",
            "57) Excited yet?\n",
            "\n",
            "58) : Here's a reminder of the UCLdraw pots. Who do you think is the team to avoid in each pot? We'll the best answers! …\n",
            "\n",
            "59) The ucldraw for the new CL season's group stage will be Aug 28, 2014.\n",
            "\n",
            "60) The teams drawn first in each match will play their home game first. UCLdraw\n",
            "\n",
            "61) First draw: \n",
            "\n",
            "62) The UCL final will be played on May 24. Just so you don't make other appointments ;-)\n",
            "\n",
            "63) : FREE LIVE STREAM: The UCLdraw for the semi-finals is about to begin. Watch it live here -  http…\n",
            "\n",
            "64) First leg will be played on 22 and 23 April, second leg will be on 29 and 30 April. ucl ucldraw RoadToLisboa\n",
            "\n",
            "65) Ok, getting excited! Who do you think will play the semi finals? UCLdraw\n",
            "\n",
            "66) Only 27 hours to go until this season's last ucldraw! Very exciting!\n",
            "\n",
            "67) : Of the eight teams left in this season's UCL,  have conceded the most goals: 10.\n",
            "\n",
            "68) Thanks for your tweets, see you next time :-)\n",
            "\n",
            "69) Real will be playing Dortmund! ucldraw\n",
            "\n",
            "70) Third draw: Real Madrid ucldraw\n",
            "\n",
            "71) First draw: FC Barcelona! ucldraw\n",
            "\n"
          ],
          "name": "stdout"
        }
      ]
    },
    {
      "cell_type": "code",
      "metadata": {
        "colab": {
          "base_uri": "https://localhost:8080/"
        },
        "id": "bIoX26PDsjIh",
        "outputId": "061fe130-2176-40cf-be95-76d9e3fd98c9"
      },
      "source": [
        "# Printing negative tweets  \r\n",
        "print('Printing negative tweets:\\n')\r\n",
        "j=1\r\n",
        "sortedDF = df.sort_values(by=['Polarity'],ascending=False) #Sort the tweets\r\n",
        "for i in range(0, sortedDF.shape[0] ):\r\n",
        "  if( sortedDF['Analysis'][i] == 'Negative'):\r\n",
        "    print(str(j) + ') '+sortedDF['Tweets'][i])\r\n",
        "    print()\r\n",
        "    j=j+1"
      ],
      "execution_count": 117,
      "outputs": [
        {
          "output_type": "stream",
          "text": [
            "Printing negative tweets:\n",
            "\n",
            "1) This is what this season's Round of 16 looks like\n",
            "\n",
            "UCLdraw \n",
            "\n",
            "2) 📅 Ladies and gentlemen, mark your calendars!\n",
            "\n",
            "The Round of 16 will be drawn on December 14, 2020.\n",
            "\n",
            "See you all then! 👋✌️\n",
            "\n",
            "ucldraw\n",
            "\n",
            "3) This is what we're dealing with today.\n",
            "Only a few moments to go...\n",
            "\n",
            "UCLdraw \n",
            "\n",
            "4) This season's UCLdraw for the quarterfinals.\n",
            "Which game are you especially looking forward to? \n",
            "\n",
            "5) WHAT A GAME!\n",
            "fcbfcb ucldraw\n",
            "\n",
            "6) Drawing about to begin.\n",
            "What game would you like to see?\n",
            "UCLdraw\n",
            "\n",
            "7) Here are all the pairings of this season's drawing of the round of 16\n",
            "ucldraw \n",
            "\n",
            "8) seventh draw:  (runner-up) vs. _Monaco \n",
            "ucldraw\n",
            "\n",
            "9) sixth draw:  (runner-up) will be playing  \n",
            "ucldraw\n",
            "\n",
            "10) fourth draw:  (runner-up) vs.  \n",
            "UCLdraw\n",
            "\n",
            "11) Second draw:  (runner-up) vs.  \n",
            "UCLdraw\n",
            "\n",
            "12) Gotta hand it to UEFA! Their videos blow your hair back EVERY SINGLE TIME!\n",
            "ucldraw\n",
            "\n",
            "13) Round of 16 will be drawn December 15 at noon.\n",
            "Looking forward to seeing you!\n",
            "ucldraw\n",
            "\n",
            "14) Enough monkey business already, STATHE DRAW!\n",
            "ucldraw\n",
            "\n",
            "15) The usual reviews... LET'S GET STARTED ALREADY!\n",
            "ucldraw\n",
            "\n",
            "16) So Bayern will be facing Manchester. First game will be in Manchester ucldraw\n",
            "\n"
          ],
          "name": "stdout"
        }
      ]
    },
    {
      "cell_type": "code",
      "metadata": {
        "colab": {
          "base_uri": "https://localhost:8080/",
          "height": 513
        },
        "id": "NGnJVGxQsykI",
        "outputId": "60653509-b318-401a-83dd-314ee0af15ff"
      },
      "source": [
        "# Plotting \r\n",
        "plt.figure(figsize=(11,8)) \r\n",
        "for i in range(0, df.shape[0]):\r\n",
        "  plt.scatter(df[\"Polarity\"][i], df[\"Subjectivity\"][i], color='black') \r\n",
        "# plt.scatter(x,y,color)   \r\n",
        "plt.title('Sentiment Analysis') \r\n",
        "plt.xlabel('Polarity') \r\n",
        "plt.ylabel('Subjectivity') \r\n",
        "plt.show()"
      ],
      "execution_count": 118,
      "outputs": [
        {
          "output_type": "display_data",
          "data": {
            "image/png": "[encoded data removed]",
            "text/plain": [
              "<Figure size 792x576 with 1 Axes>"
            ]
          },
          "metadata": {
            "tags": [],
            "needs_background": "light"
          }
        }
      ]
    },
    {
      "cell_type": "code",
      "metadata": {
        "colab": {
          "base_uri": "https://localhost:8080/"
        },
        "id": "TCrWTu8dtM2E",
        "outputId": "086cd77e-734c-4c62-a840-c251b4d973de"
      },
      "source": [
        "# Print the percentage of positive tweets\r\n",
        "ptweets = df[df.Analysis == 'Positive']\r\n",
        "ptweets = ptweets['Tweets']\r\n",
        "ptweets\r\n",
        "\r\n",
        "round( (ptweets.shape[0] / df.shape[0]) * 1000 , 1)"
      ],
      "execution_count": 119,
      "outputs": [
        {
          "output_type": "execute_result",
          "data": {
            "text/plain": [
              "371.7"
            ]
          },
          "metadata": {
            "tags": []
          },
          "execution_count": 119
        }
      ]
    },
    {
      "cell_type": "code",
      "metadata": {
        "colab": {
          "base_uri": "https://localhost:8080/"
        },
        "id": "Ab-9KzCttmSa",
        "outputId": "d6f9bf7f-ad1b-4fad-c060-ea2e967f9bae"
      },
      "source": [
        "# Print the percentage of negative tweets\r\n",
        "ntweets = df[df.Analysis == 'Negative']\r\n",
        "ntweets = ntweets['Tweets']\r\n",
        "ntweets\r\n",
        "\r\n",
        "round( (ntweets.shape[0] / df.shape[0]) * 1000, 1)"
      ],
      "execution_count": 120,
      "outputs": [
        {
          "output_type": "execute_result",
          "data": {
            "text/plain": [
              "83.8"
            ]
          },
          "metadata": {
            "tags": []
          },
          "execution_count": 120
        }
      ]
    },
    {
      "cell_type": "code",
      "metadata": {
        "colab": {
          "base_uri": "https://localhost:8080/"
        },
        "id": "UQu5muRztzkI",
        "outputId": "b3e61139-ef5c-4734-d218-08fa4c13c2f3"
      },
      "source": [
        "# Show the value counts\r\n",
        "df['Analysis'].value_counts()"
      ],
      "execution_count": 121,
      "outputs": [
        {
          "output_type": "execute_result",
          "data": {
            "text/plain": [
              "Neutral     104\n",
              "Positive     71\n",
              "Negative     16\n",
              "Name: Analysis, dtype: int64"
            ]
          },
          "metadata": {
            "tags": []
          },
          "execution_count": 121
        }
      ]
    },
    {
      "cell_type": "code",
      "metadata": {
        "colab": {
          "base_uri": "https://localhost:8080/",
          "height": 331
        },
        "id": "FAKvYW_ft_5k",
        "outputId": "d27e7ff8-6350-4c10-93cf-cdcf82ad6e6a"
      },
      "source": [
        "# Plotting and visualizing the counts\r\n",
        "plt.title('Sentiment Analysis')\r\n",
        "plt.xlabel('Sentiment')\r\n",
        "plt.ylabel('Counts')\r\n",
        "df['Analysis'].value_counts().plot(kind = 'bar')\r\n",
        "plt.show()"
      ],
      "execution_count": 122,
      "outputs": [
        {
          "output_type": "display_data",
          "data": {
            "image/png": "[encoded data removed]",
            "text/plain": [
              "<Figure size 432x288 with 1 Axes>"
            ]
          },
          "metadata": {
            "tags": [],
            "needs_background": "light"
          }
        }
      ]
    },
    {
      "cell_type": "code",
      "metadata": {
        "id": "878hFPbhuRb6"
      },
      "source": [
        ""
      ],
      "execution_count": null,
      "outputs": []
    },
    {
      "cell_type": "code",
      "metadata": {
        "colab": {
          "base_uri": "https://localhost:8080/",
          "height": 296
        },
        "id": "33-7UzpmuSBW",
        "outputId": "97dc7df9-d153-4065-b1cd-6c1652072d25"
      },
      "source": [
        "plt.title('Sentiment Analysis')\r\n",
        "plt.xlabel('Sentiment')\r\n",
        "plt.ylabel('Counts')\r\n",
        "df['Analysis'].value_counts().plot(kind = 'line')\r\n",
        "plt.show()"
      ],
      "execution_count": 123,
      "outputs": [
        {
          "output_type": "display_data",
          "data": {
            "image/png": "[encoded data removed]",
            "text/plain": [
              "<Figure size 432x288 with 1 Axes>"
            ]
          },
          "metadata": {
            "tags": [],
            "needs_background": "light"
          }
        }
      ]
    },
    {
      "cell_type": "code",
      "metadata": {
        "id": "OuOKuo9cvFE8"
      },
      "source": [
        ""
      ],
      "execution_count": null,
      "outputs": []
    }
  ]
}