{
  "nbformat": 4,
  "nbformat_minor": 0,
  "metadata": {
    "colab": {
      "name": "Analisis Sentiment(Kasus_JoeBiden).ipynb",
      "provenance": []
    },
    "kernelspec": {
      "name": "python3",
      "display_name": "Python 3"
    }
  },
  "cells": [
    {
      "cell_type": "code",
      "metadata": {
        "id": "dQnwM_HGgU54"
      },
      "source": [
        "import tweepy\r\n",
        "from textblob import TextBlob\r\n",
        "from wordcloud import WordCloud\r\n",
        "import pandas as pd\r\n",
        "import numpy as np\r\n",
        "import re\r\n",
        "import matplotlib.pyplot as plt\r\n",
        "plt.style.use('fivethirtyeight')"
      ],
      "execution_count": null,
      "outputs": []
    },
    {
      "cell_type": "code",
      "metadata": {
        "id": "sooCO6PBg8vD"
      },
      "source": [
        "consumer_key = 'LrSxpWHRWjwa2h8R4SQOZJUIV'\r\n",
        "consumer_secret_key = '8d3xWVMKm6LpXDIbZW930I5eiH0kb0jhtNr8pvSHkABm63qPh9'\r\n",
        "access_token = '1334421915549585408-8HocCnFw9QvWCZLXbei8QL5BrwfFi4'\r\n",
        "access_token_secret = 'DePvAq20EWinXLyCi82cfPYIedfAamMMRXet5L40e8XWO'"
      ],
      "execution_count": null,
      "outputs": []
    },
    {
      "cell_type": "code",
      "metadata": {
        "id": "0zjRittwiL7C"
      },
      "source": [
        "auth = tweepy.OAuthHandler(consumer_key,consumer_secret_key)\r\n",
        "auth.set_access_token(access_token,access_token_secret)\r\n",
        "api = tweepy.API(auth)"
      ],
      "execution_count": null,
      "outputs": []
    },
    {
      "cell_type": "code",
      "metadata": {
        "colab": {
          "base_uri": "https://localhost:8080/"
        },
        "id": "IzoquecYiwud",
        "outputId": "3404b4b6-c9b9-4167-daf3-2215a7964c73"
      },
      "source": [
        "posts = api.user_timeline(screen_name=\"JoeBiden\", count=1000, lang=\"en\", tweet_mode=\"extended\")\r\n",
        "\r\n",
        "# Print the last 10 tweets\r\n",
        "print(\"Show the 10 recent tweets:\\n\")\r\n",
        "i=1\r\n",
        "for tweet in posts[:10]:\r\n",
        "  print(str(i) +') '+ tweet.full_text + '\\n')\r\n",
        "  i= i+1"
      ],
      "execution_count": 73,
      "outputs": [
        {
          "output_type": "stream",
          "text": [
            "Show the 10 recent tweets:\n",
            "\n",
            "1) With @ossoff and @ReverendWarnock in the Senate, the doors of promise and progress will open in Washington. \n",
            " \n",
            "https://t.co/RIJ1L4B5o9 https://t.co/Dus1Mft7qD\n",
            "\n",
            "2) From the economy to criminal justice to climate change — there’s so much we can get done. But we need senators who are willing to do it.\n",
            " \n",
            "https://t.co/RIJ1L4juwB https://t.co/Bplr5wYLHd\n",
            "\n",
            "3) Mayor @PeteButtigieg is a leader, patriot, and problem-solver. He speaks to the best of who we are as a nation.\n",
            "\n",
            "I am nominating him for Secretary of Transportation because he's equipped to take on the challenges at the intersection of jobs, infrastructure, equity, and climate.\n",
            "\n",
            "4) The future of health care, the economy, and the planet are all on the line. We’ve got to win Georgia and flip the Senate.\n",
            "\n",
            "https://t.co/RIJ1L4juwB https://t.co/euGgJtxMBY\n",
            "\n",
            "5) With early voting underway and just three weeks until Election Day, I’m in Atlanta to encourage folks to get out and vote. Tune in. https://t.co/qpYvQGrBhE\n",
            "\n",
            "6) RT @TeamJoe: To each and every member of #TeamJoe — thank you. This was your victory, and we couldn’t have done it without you. https://t.c…\n",
            "\n",
            "7) I’m looking forward to being back in Georgia this afternoon to rally voters ahead of the Senate runoffs. See you soon, Atlanta!\n",
            "\n",
            "8) Health care is personal to me — and I’ll always fight to ensure folks like Xiomara are protected and have access to the care they need.\n",
            "\n",
            "Don’t miss your chance to get covered for 2021, head to https://t.co/3CYKhP8ZoR before midnight to pick a plan that works best for you. https://t.co/DCL3imZHbV\n",
            "\n",
            "9) As I said throughout the campaign: I will be a president for all Americans.\n",
            "\n",
            "I will work just as hard for those of you who didn’t vote for me as I will for those who did.\n",
            "\n",
            "10) Today, the members of the Electoral College cast their votes for president and vice president.\n",
            "\n",
            "And once again, the rule of law, our Constitution, and the will of the people have prevailed.\n",
            "\n",
            "Our democracy—pushed, tested, and threatened—proved to be resilient, true, and strong. https://t.co/Ka1Aj3hV3m\n",
            "\n",
            "Show the 10 recent tweets:\n",
            "\n",
            "1) With @ossoff and @ReverendWarnock in the Senate, the doors of promise and progress will open in Washington. \n",
            " \n",
            "https://t.co/RIJ1L4B5o9 https://t.co/Dus1Mft7qD\n",
            "\n",
            "2) From the economy to criminal justice to climate change — there’s so much we can get done. But we need senators who are willing to do it.\n",
            " \n",
            "https://t.co/RIJ1L4juwB https://t.co/Bplr5wYLHd\n",
            "\n",
            "3) Mayor @PeteButtigieg is a leader, patriot, and problem-solver. He speaks to the best of who we are as a nation.\n",
            "\n",
            "I am nominating him for Secretary of Transportation because he's equipped to take on the challenges at the intersection of jobs, infrastructure, equity, and climate.\n",
            "\n",
            "4) The future of health care, the economy, and the planet are all on the line. We’ve got to win Georgia and flip the Senate.\n",
            "\n",
            "https://t.co/RIJ1L4juwB https://t.co/euGgJtxMBY\n",
            "\n",
            "5) With early voting underway and just three weeks until Election Day, I’m in Atlanta to encourage folks to get out and vote. Tune in. https://t.co/qpYvQGrBhE\n",
            "\n",
            "6) RT @TeamJoe: To each and every member of #TeamJoe — thank you. This was your victory, and we couldn’t have done it without you. https://t.c…\n",
            "\n",
            "7) I’m looking forward to being back in Georgia this afternoon to rally voters ahead of the Senate runoffs. See you soon, Atlanta!\n",
            "\n",
            "8) Health care is personal to me — and I’ll always fight to ensure folks like Xiomara are protected and have access to the care they need.\n",
            "\n",
            "Don’t miss your chance to get covered for 2021, head to https://t.co/3CYKhP8ZoR before midnight to pick a plan that works best for you. https://t.co/DCL3imZHbV\n",
            "\n",
            "9) As I said throughout the campaign: I will be a president for all Americans.\n",
            "\n",
            "I will work just as hard for those of you who didn’t vote for me as I will for those who did.\n",
            "\n",
            "10) Today, the members of the Electoral College cast their votes for president and vice president.\n",
            "\n",
            "And once again, the rule of law, our Constitution, and the will of the people have prevailed.\n",
            "\n",
            "Our democracy—pushed, tested, and threatened—proved to be resilient, true, and strong. https://t.co/Ka1Aj3hV3m\n",
            "\n"
          ],
          "name": "stdout"
        }
      ]
    },
    {
      "cell_type": "code",
      "metadata": {
        "colab": {
          "base_uri": "https://localhost:8080/",
          "height": 204
        },
        "id": "eMZ6jHMeopkH",
        "outputId": "df94d155-2c17-447f-c572-6ce83994f688"
      },
      "source": [
        "df = pd.DataFrame([tweet.full_text for tweet in posts], columns=['Tweets'])\r\n",
        "#Show the first 10 rows of data\r\n",
        "df.head()"
      ],
      "execution_count": 74,
      "outputs": [
        {
          "output_type": "execute_result",
          "data": {
            "text/html": [
              "<div>\n",
              "<style scoped>\n",
              "    .dataframe tbody tr th:only-of-type {\n",
              "        vertical-align: middle;\n",
              "    }\n",
              "\n",
              "    .dataframe tbody tr th {\n",
              "        vertical-align: top;\n",
              "    }\n",
              "\n",
              "    .dataframe thead th {\n",
              "        text-align: right;\n",
              "    }\n",
              "</style>\n",
              "<table border=\"1\" class=\"dataframe\">\n",
              "  <thead>\n",
              "    <tr style=\"text-align: right;\">\n",
              "      <th></th>\n",
              "      <th>Tweets</th>\n",
              "    </tr>\n",
              "  </thead>\n",
              "  <tbody>\n",
              "    <tr>\n",
              "      <th>0</th>\n",
              "      <td>With @ossoff and @ReverendWarnock in the Senat...</td>\n",
              "    </tr>\n",
              "    <tr>\n",
              "      <th>1</th>\n",
              "      <td>From the economy to criminal justice to climat...</td>\n",
              "    </tr>\n",
              "    <tr>\n",
              "      <th>2</th>\n",
              "      <td>Mayor @PeteButtigieg is a leader, patriot, and...</td>\n",
              "    </tr>\n",
              "    <tr>\n",
              "      <th>3</th>\n",
              "      <td>The future of health care, the economy, and th...</td>\n",
              "    </tr>\n",
              "    <tr>\n",
              "      <th>4</th>\n",
              "      <td>With early voting underway and just three week...</td>\n",
              "    </tr>\n",
              "  </tbody>\n",
              "</table>\n",
              "</div>"
            ],
            "text/plain": [
              "                                              Tweets\n",
              "0  With @ossoff and @ReverendWarnock in the Senat...\n",
              "1  From the economy to criminal justice to climat...\n",
              "2  Mayor @PeteButtigieg is a leader, patriot, and...\n",
              "3  The future of health care, the economy, and th...\n",
              "4  With early voting underway and just three week..."
            ]
          },
          "metadata": {
            "tags": []
          },
          "execution_count": 74
        }
      ]
    },
    {
      "cell_type": "code",
      "metadata": {
        "colab": {
          "base_uri": "https://localhost:8080/",
          "height": 419
        },
        "id": "SI9UjSM8pp1A",
        "outputId": "62d07730-d239-4e0f-e74a-2b76d89f0730"
      },
      "source": [
        "# Create a function to clean the tweets\r\n",
        "def cleanTxt(text):\r\n",
        " text = re.sub('@[A-Za-z0–9]+', '', text) #Removing @mentions\r\n",
        " text = re.sub('#', '', text) # Removing '#' hash tag\r\n",
        " text = re.sub('RT[\\s]+', '', text) # Removing RT\r\n",
        " text = re.sub('https?:\\/\\/\\S+', '', text) # Removing hyperlink\r\n",
        " \r\n",
        " return text\r\n",
        "\r\n",
        "\r\n",
        "# Clean the tweets\r\n",
        "df['Tweets'] = df['Tweets'].apply(cleanTxt)\r\n",
        "\r\n",
        "# Show the cleaned tweets\r\n",
        "df"
      ],
      "execution_count": 75,
      "outputs": [
        {
          "output_type": "execute_result",
          "data": {
            "text/html": [
              "<div>\n",
              "<style scoped>\n",
              "    .dataframe tbody tr th:only-of-type {\n",
              "        vertical-align: middle;\n",
              "    }\n",
              "\n",
              "    .dataframe tbody tr th {\n",
              "        vertical-align: top;\n",
              "    }\n",
              "\n",
              "    .dataframe thead th {\n",
              "        text-align: right;\n",
              "    }\n",
              "</style>\n",
              "<table border=\"1\" class=\"dataframe\">\n",
              "  <thead>\n",
              "    <tr style=\"text-align: right;\">\n",
              "      <th></th>\n",
              "      <th>Tweets</th>\n",
              "    </tr>\n",
              "  </thead>\n",
              "  <tbody>\n",
              "    <tr>\n",
              "      <th>0</th>\n",
              "      <td>With  and  in the Senate, the doors of promise...</td>\n",
              "    </tr>\n",
              "    <tr>\n",
              "      <th>1</th>\n",
              "      <td>From the economy to criminal justice to climat...</td>\n",
              "    </tr>\n",
              "    <tr>\n",
              "      <th>2</th>\n",
              "      <td>Mayor  is a leader, patriot, and problem-solve...</td>\n",
              "    </tr>\n",
              "    <tr>\n",
              "      <th>3</th>\n",
              "      <td>The future of health care, the economy, and th...</td>\n",
              "    </tr>\n",
              "    <tr>\n",
              "      <th>4</th>\n",
              "      <td>With early voting underway and just three week...</td>\n",
              "    </tr>\n",
              "    <tr>\n",
              "      <th>...</th>\n",
              "      <td>...</td>\n",
              "    </tr>\n",
              "    <tr>\n",
              "      <th>195</th>\n",
              "      <td>Today, I have named a COVID-19 Transition Advi...</td>\n",
              "    </tr>\n",
              "    <tr>\n",
              "      <th>196</th>\n",
              "      <td>I spent the morning with the co-chairs of my C...</td>\n",
              "    </tr>\n",
              "    <tr>\n",
              "      <th>197</th>\n",
              "      <td>46: Statement by President-elect Biden on Pfiz...</td>\n",
              "    </tr>\n",
              "    <tr>\n",
              "      <th>198</th>\n",
              "      <td>46: We stand together as one America. We will ...</td>\n",
              "    </tr>\n",
              "    <tr>\n",
              "      <th>199</th>\n",
              "      <td>From the bottom of my heart: thank you.</td>\n",
              "    </tr>\n",
              "  </tbody>\n",
              "</table>\n",
              "<p>200 rows × 1 columns</p>\n",
              "</div>"
            ],
            "text/plain": [
              "                                                Tweets\n",
              "0    With  and  in the Senate, the doors of promise...\n",
              "1    From the economy to criminal justice to climat...\n",
              "2    Mayor  is a leader, patriot, and problem-solve...\n",
              "3    The future of health care, the economy, and th...\n",
              "4    With early voting underway and just three week...\n",
              "..                                                 ...\n",
              "195  Today, I have named a COVID-19 Transition Advi...\n",
              "196  I spent the morning with the co-chairs of my C...\n",
              "197  46: Statement by President-elect Biden on Pfiz...\n",
              "198  46: We stand together as one America. We will ...\n",
              "199           From the bottom of my heart: thank you. \n",
              "\n",
              "[200 rows x 1 columns]"
            ]
          },
          "metadata": {
            "tags": []
          },
          "execution_count": 75
        }
      ]
    },
    {
      "cell_type": "code",
      "metadata": {
        "colab": {
          "base_uri": "https://localhost:8080/",
          "height": 419
        },
        "id": "PSScL2-KrajN",
        "outputId": "de9304ee-a40c-4bee-b468-4f50b341eb59"
      },
      "source": [
        "# Create a function to get the subjectivity\r\n",
        "def getSubjectivity(text):\r\n",
        "   return TextBlob(text).sentiment.subjectivity\r\n",
        "\r\n",
        "# Create a function to get the polarity\r\n",
        "def getPolarity(text):\r\n",
        "   return  TextBlob(text).sentiment.polarity\r\n",
        "\r\n",
        "\r\n",
        "# Create two new columns 'Subjectivity' & 'Polarity'\r\n",
        "df['Subjectivity'] = df['Tweets'].apply(getSubjectivity)\r\n",
        "df['Polarity'] = df['Tweets'].apply(getPolarity)\r\n",
        "\r\n",
        "# Show the new dataframe with columns 'Subjectivity' & 'Polarity'\r\n",
        "df"
      ],
      "execution_count": 76,
      "outputs": [
        {
          "output_type": "execute_result",
          "data": {
            "text/html": [
              "<div>\n",
              "<style scoped>\n",
              "    .dataframe tbody tr th:only-of-type {\n",
              "        vertical-align: middle;\n",
              "    }\n",
              "\n",
              "    .dataframe tbody tr th {\n",
              "        vertical-align: top;\n",
              "    }\n",
              "\n",
              "    .dataframe thead th {\n",
              "        text-align: right;\n",
              "    }\n",
              "</style>\n",
              "<table border=\"1\" class=\"dataframe\">\n",
              "  <thead>\n",
              "    <tr style=\"text-align: right;\">\n",
              "      <th></th>\n",
              "      <th>Tweets</th>\n",
              "      <th>Subjectivity</th>\n",
              "      <th>Polarity</th>\n",
              "    </tr>\n",
              "  </thead>\n",
              "  <tbody>\n",
              "    <tr>\n",
              "      <th>0</th>\n",
              "      <td>With  and  in the Senate, the doors of promise...</td>\n",
              "      <td>0.500000</td>\n",
              "      <td>0.000000</td>\n",
              "    </tr>\n",
              "    <tr>\n",
              "      <th>1</th>\n",
              "      <td>From the economy to criminal justice to climat...</td>\n",
              "      <td>0.500000</td>\n",
              "      <td>0.016667</td>\n",
              "    </tr>\n",
              "    <tr>\n",
              "      <th>2</th>\n",
              "      <td>Mayor  is a leader, patriot, and problem-solve...</td>\n",
              "      <td>0.300000</td>\n",
              "      <td>1.000000</td>\n",
              "    </tr>\n",
              "    <tr>\n",
              "      <th>3</th>\n",
              "      <td>The future of health care, the economy, and th...</td>\n",
              "      <td>0.262500</td>\n",
              "      <td>0.400000</td>\n",
              "    </tr>\n",
              "    <tr>\n",
              "      <th>4</th>\n",
              "      <td>With early voting underway and just three week...</td>\n",
              "      <td>0.300000</td>\n",
              "      <td>0.100000</td>\n",
              "    </tr>\n",
              "    <tr>\n",
              "      <th>...</th>\n",
              "      <td>...</td>\n",
              "      <td>...</td>\n",
              "      <td>...</td>\n",
              "    </tr>\n",
              "    <tr>\n",
              "      <th>195</th>\n",
              "      <td>Today, I have named a COVID-19 Transition Advi...</td>\n",
              "      <td>0.066667</td>\n",
              "      <td>0.000000</td>\n",
              "    </tr>\n",
              "    <tr>\n",
              "      <th>196</th>\n",
              "      <td>I spent the morning with the co-chairs of my C...</td>\n",
              "      <td>0.100000</td>\n",
              "      <td>-0.100000</td>\n",
              "    </tr>\n",
              "    <tr>\n",
              "      <th>197</th>\n",
              "      <td>46: Statement by President-elect Biden on Pfiz...</td>\n",
              "      <td>0.000000</td>\n",
              "      <td>0.000000</td>\n",
              "    </tr>\n",
              "    <tr>\n",
              "      <th>198</th>\n",
              "      <td>46: We stand together as one America. We will ...</td>\n",
              "      <td>0.000000</td>\n",
              "      <td>0.000000</td>\n",
              "    </tr>\n",
              "    <tr>\n",
              "      <th>199</th>\n",
              "      <td>From the bottom of my heart: thank you.</td>\n",
              "      <td>0.000000</td>\n",
              "      <td>0.000000</td>\n",
              "    </tr>\n",
              "  </tbody>\n",
              "</table>\n",
              "<p>200 rows × 3 columns</p>\n",
              "</div>"
            ],
            "text/plain": [
              "                                                Tweets  Subjectivity  Polarity\n",
              "0    With  and  in the Senate, the doors of promise...      0.500000  0.000000\n",
              "1    From the economy to criminal justice to climat...      0.500000  0.016667\n",
              "2    Mayor  is a leader, patriot, and problem-solve...      0.300000  1.000000\n",
              "3    The future of health care, the economy, and th...      0.262500  0.400000\n",
              "4    With early voting underway and just three week...      0.300000  0.100000\n",
              "..                                                 ...           ...       ...\n",
              "195  Today, I have named a COVID-19 Transition Advi...      0.066667  0.000000\n",
              "196  I spent the morning with the co-chairs of my C...      0.100000 -0.100000\n",
              "197  46: Statement by President-elect Biden on Pfiz...      0.000000  0.000000\n",
              "198  46: We stand together as one America. We will ...      0.000000  0.000000\n",
              "199           From the bottom of my heart: thank you.       0.000000  0.000000\n",
              "\n",
              "[200 rows x 3 columns]"
            ]
          },
          "metadata": {
            "tags": []
          },
          "execution_count": 76
        }
      ]
    },
    {
      "cell_type": "code",
      "metadata": {
        "colab": {
          "base_uri": "https://localhost:8080/",
          "height": 248
        },
        "id": "juZ0JXiIrhNV",
        "outputId": "764df882-1c66-4b59-d703-0b5f0aa809df"
      },
      "source": [
        "# word cloud visualization\r\n",
        "allWords = ' '.join([twts for twts in df['Tweets']])\r\n",
        "wordCloud = WordCloud(width=800, height=600, random_state=18, max_font_size=700).generate(allWords)\r\n",
        "\r\n",
        "\r\n",
        "plt.imshow(wordCloud, interpolation=\"bilinear\")\r\n",
        "plt.axis('off')\r\n",
        "plt.show()"
      ],
      "execution_count": 77,
      "outputs": [
        {
          "output_type": "display_data",
          "data": {
            "image/png": "[encoded data removed]",
            "text/plain": [
              "<Figure size 432x288 with 1 Axes>"
            ]
          },
          "metadata": {
            "tags": [],
            "needs_background": "light"
          }
        }
      ]
    },
    {
      "cell_type": "code",
      "metadata": {
        "colab": {
          "base_uri": "https://localhost:8080/"
        },
        "id": "Ae9EjzmqsEdW",
        "outputId": "9be955c8-549d-4a0a-c275-0b10beb30a5b"
      },
      "source": [
        "pip install WordCloud"
      ],
      "execution_count": null,
      "outputs": [
        {
          "output_type": "stream",
          "text": [
            "Requirement already satisfied: WordCloud in /usr/local/lib/python3.6/dist-packages (1.5.0)\n",
            "Requirement already satisfied: pillow in /usr/local/lib/python3.6/dist-packages (from WordCloud) (7.0.0)\n",
            "Requirement already satisfied: numpy>=1.6.1 in /usr/local/lib/python3.6/dist-packages (from WordCloud) (1.18.5)\n"
          ],
          "name": "stdout"
        }
      ]
    },
    {
      "cell_type": "code",
      "metadata": {
        "colab": {
          "base_uri": "https://localhost:8080/",
          "height": 419
        },
        "id": "AoTFIwtdsLd6",
        "outputId": "e903cb1c-7b95-4800-aa02-824fe6c961bf"
      },
      "source": [
        "# Create a function to compute negative (-1), neutral (0) and positive (+1) analysis\r\n",
        "def getAnalysis(score):\r\n",
        " if score < 0:\r\n",
        "  return 'Negative'\r\n",
        " elif score == 0:\r\n",
        "  return 'Neutral'\r\n",
        " else:\r\n",
        "  return 'Positive'\r\n",
        "df['Analysis'] = df['Polarity'].apply(getAnalysis)\r\n",
        "# Show the dataframe\r\n",
        "df"
      ],
      "execution_count": 78,
      "outputs": [
        {
          "output_type": "execute_result",
          "data": {
            "text/html": [
              "<div>\n",
              "<style scoped>\n",
              "    .dataframe tbody tr th:only-of-type {\n",
              "        vertical-align: middle;\n",
              "    }\n",
              "\n",
              "    .dataframe tbody tr th {\n",
              "        vertical-align: top;\n",
              "    }\n",
              "\n",
              "    .dataframe thead th {\n",
              "        text-align: right;\n",
              "    }\n",
              "</style>\n",
              "<table border=\"1\" class=\"dataframe\">\n",
              "  <thead>\n",
              "    <tr style=\"text-align: right;\">\n",
              "      <th></th>\n",
              "      <th>Tweets</th>\n",
              "      <th>Subjectivity</th>\n",
              "      <th>Polarity</th>\n",
              "      <th>Analysis</th>\n",
              "    </tr>\n",
              "  </thead>\n",
              "  <tbody>\n",
              "    <tr>\n",
              "      <th>0</th>\n",
              "      <td>With  and  in the Senate, the doors of promise...</td>\n",
              "      <td>0.500000</td>\n",
              "      <td>0.000000</td>\n",
              "      <td>Neutral</td>\n",
              "    </tr>\n",
              "    <tr>\n",
              "      <th>1</th>\n",
              "      <td>From the economy to criminal justice to climat...</td>\n",
              "      <td>0.500000</td>\n",
              "      <td>0.016667</td>\n",
              "      <td>Positive</td>\n",
              "    </tr>\n",
              "    <tr>\n",
              "      <th>2</th>\n",
              "      <td>Mayor  is a leader, patriot, and problem-solve...</td>\n",
              "      <td>0.300000</td>\n",
              "      <td>1.000000</td>\n",
              "      <td>Positive</td>\n",
              "    </tr>\n",
              "    <tr>\n",
              "      <th>3</th>\n",
              "      <td>The future of health care, the economy, and th...</td>\n",
              "      <td>0.262500</td>\n",
              "      <td>0.400000</td>\n",
              "      <td>Positive</td>\n",
              "    </tr>\n",
              "    <tr>\n",
              "      <th>4</th>\n",
              "      <td>With early voting underway and just three week...</td>\n",
              "      <td>0.300000</td>\n",
              "      <td>0.100000</td>\n",
              "      <td>Positive</td>\n",
              "    </tr>\n",
              "    <tr>\n",
              "      <th>...</th>\n",
              "      <td>...</td>\n",
              "      <td>...</td>\n",
              "      <td>...</td>\n",
              "      <td>...</td>\n",
              "    </tr>\n",
              "    <tr>\n",
              "      <th>195</th>\n",
              "      <td>Today, I have named a COVID-19 Transition Advi...</td>\n",
              "      <td>0.066667</td>\n",
              "      <td>0.000000</td>\n",
              "      <td>Neutral</td>\n",
              "    </tr>\n",
              "    <tr>\n",
              "      <th>196</th>\n",
              "      <td>I spent the morning with the co-chairs of my C...</td>\n",
              "      <td>0.100000</td>\n",
              "      <td>-0.100000</td>\n",
              "      <td>Negative</td>\n",
              "    </tr>\n",
              "    <tr>\n",
              "      <th>197</th>\n",
              "      <td>46: Statement by President-elect Biden on Pfiz...</td>\n",
              "      <td>0.000000</td>\n",
              "      <td>0.000000</td>\n",
              "      <td>Neutral</td>\n",
              "    </tr>\n",
              "    <tr>\n",
              "      <th>198</th>\n",
              "      <td>46: We stand together as one America. We will ...</td>\n",
              "      <td>0.000000</td>\n",
              "      <td>0.000000</td>\n",
              "      <td>Neutral</td>\n",
              "    </tr>\n",
              "    <tr>\n",
              "      <th>199</th>\n",
              "      <td>From the bottom of my heart: thank you.</td>\n",
              "      <td>0.000000</td>\n",
              "      <td>0.000000</td>\n",
              "      <td>Neutral</td>\n",
              "    </tr>\n",
              "  </tbody>\n",
              "</table>\n",
              "<p>200 rows × 4 columns</p>\n",
              "</div>"
            ],
            "text/plain": [
              "                                                Tweets  ...  Analysis\n",
              "0    With  and  in the Senate, the doors of promise...  ...   Neutral\n",
              "1    From the economy to criminal justice to climat...  ...  Positive\n",
              "2    Mayor  is a leader, patriot, and problem-solve...  ...  Positive\n",
              "3    The future of health care, the economy, and th...  ...  Positive\n",
              "4    With early voting underway and just three week...  ...  Positive\n",
              "..                                                 ...  ...       ...\n",
              "195  Today, I have named a COVID-19 Transition Advi...  ...   Neutral\n",
              "196  I spent the morning with the co-chairs of my C...  ...  Negative\n",
              "197  46: Statement by President-elect Biden on Pfiz...  ...   Neutral\n",
              "198  46: We stand together as one America. We will ...  ...   Neutral\n",
              "199           From the bottom of my heart: thank you.   ...   Neutral\n",
              "\n",
              "[200 rows x 4 columns]"
            ]
          },
          "metadata": {
            "tags": []
          },
          "execution_count": 78
        }
      ]
    },
    {
      "cell_type": "code",
      "metadata": {
        "colab": {
          "base_uri": "https://localhost:8080/"
        },
        "id": "FyBxyXxpsZbl",
        "outputId": "70d825c6-abcd-4457-8ee2-f7e4db055d85"
      },
      "source": [
        "# Printing positive tweets \r\n",
        "print('Printing positive tweets:\\n')\r\n",
        "j=1\r\n",
        "sortedDF = df.sort_values(by=['Polarity']) #Sort the tweets\r\n",
        "for i in range(0, sortedDF.shape[0] ):\r\n",
        "  if( sortedDF['Analysis'][i] == 'Positive'):\r\n",
        "    print(str(j) + ') '+ sortedDF['Tweets'][i])\r\n",
        "    print()\r\n",
        "    j= j+1"
      ],
      "execution_count": 79,
      "outputs": [
        {
          "output_type": "stream",
          "text": [
            "Printing positive tweets:\n",
            "\n",
            "1) From the economy to criminal justice to climate change — there’s so much we can get done. But we need senators who are willing to do it.\n",
            " \n",
            " \n",
            "\n",
            "2) Mayor  is a leader, patriot, and problem-solver. He speaks to the best of who we are as a nation.\n",
            "\n",
            "I am nominating him for Secretary of Transportation because he's equipped to take on the challenges at the intersection of jobs, infrastructure, equity, and climate.\n",
            "\n",
            "3) The future of health care, the economy, and the planet are all on the line. We’ve got to win Georgia and flip the Senate.\n",
            "\n",
            " \n",
            "\n",
            "4) With early voting underway and just three weeks until Election Day, I’m in Atlanta to encourage folks to get out and vote. Tune in. \n",
            "\n",
            "5) Health care is personal to me — and I’ll always fight to ensure folks like Xiomara are protected and have access to the care they need.\n",
            "\n",
            "Don’t miss your chance to get covered for 2021, head to  before midnight to pick a plan that works best for you. \n",
            "\n",
            "6) Today, the members of the Electoral College cast their votes for president and vice president.\n",
            "\n",
            "And once again, the rule of law, our Constitution, and the will of the people have prevailed.\n",
            "\n",
            "Our democracy—pushed, tested, and threatened—proved to be resilient, true, and strong. \n",
            "\n",
            "7) Folks, tomorrow is the last day of open enrollment for 2021 coverage. Head to  today to find the health insurance plan that works best for you.\n",
            "\n",
            "8) Georgia — in-person early voting starts today. Head to  to find all the information you need to make your voice heard.\n",
            "\n",
            "Wear a mask, practice social distancing, and help flip the Senate.\n",
            "\n",
            "9) I think about how that day eight years ago was the saddest day we had in the White House. Twenty first-graders. Their six educators. And I think about the time we have spent with each other grieving since then. I remain in awe as so many of you turned pain into purpose.\n",
            "\n",
            "10) To the families, loved ones, and broken and healing hearts of Sandy Hook, I know. No matter how long it’s been, every time you talk about it, you relive it as though you just heard the news. Eight years later, I know the pain never fully heals. \n",
            "\n",
            "11) Grassroots donors were the backbone of my campaign. And to thank you for everything you did to win this battle for the soul of the nation, I’ll be holding a Grassroots Donor Thank You call tomorrow night.\n",
            "\n",
            "I hope you’ll join us. Head to  to RSVP today.\n",
            "\n",
            "12) We’re in the teeth of the COVID-19 crisis right now, and this nation needs presidential leadership.\n",
            "\n",
            "Leadership that is willing to model the steps we all should be taking in our own lives.\n",
            "\n",
            "13) My first 100 days won’t end COVID-19, but we can slow the spread, save lives, and get back to our lives with our loved ones. \n",
            "\n",
            "14) This team will meet the unique and challenging moment we’re facing as a nation. They bring deep experience, bold new thinking, and they know how government can — and should — work.\n",
            "\n",
            "Together, we’re going to build back better for all Americans. \n",
            "\n",
            "15) Beating COVID-19 will take everyone doing their part.\n",
            "\n",
            "Wear a mask. Social distance. Limit travel over the holidays. \n",
            "\n",
            "We can end this, together.\n",
            "\n",
            "16) From Housing and Urban Development to Veterans Affairs — this team is where the rubber meets the road, and they’re ready to help the American people build back better. Tune in as I introduce them. \n",
            "\n",
            "17) It’s time to get back to a government of the people, for the people, by the people. That’s how we can move forward and solve the biggest challenges we face.\n",
            "\n",
            "There is no group of individuals I trust more to stand up for Americans. \n",
            "\n",
            "18) I’m honored to be Person of the Year with  and grateful to be on this list with so many extraordinary folks. From front line workers to racial justice organizers, Americans met this year with strength, fortitude, and an unflinching belief in a brighter tomorrow. \n",
            "\n",
            "19) Yesterday marked another tragic, preventable milestone in our fight against COVID-19, but this news is a bright light. I’m grateful for every scientist, researcher, and public health expert who made it possible. \n",
            "\n",
            "20) Folks, we just added new items to the  store that I know you won’t want to miss. Head to  to stock up today.\n",
            "\n",
            "21) : From our family to yours, happy Hanukkah! May this season of celebration bring you light and joy out of darkness. https:/…\n",
            "\n",
            "22) As Hanukkah begins, Jill and I send our warmest wishes to everyone celebrating in the United States and around the world. We know things look a little different this year, but we hope these next eight nights are filled with family, love, and light. Chag Sameach!\n",
            "\n",
            "23) The Georgia Senate runoffs are crucial — it’s why I’ll be traveling there next Tuesday. But we all need to do our part to make sure we win these races. If you’re able, chip in to our new Flip Georgia Fund to help us take back the Senate. \n",
            "\n",
            "24) This group will do critical work on behalf of every American.\n",
            "\n",
            "Their jobs are where rubber meets the road — where governance can make a meaningful difference in people’s lives, advancing prosperity for all Americans. \n",
            "\n",
            "25) As the United States works to advance human rights around the world, we must also recognize that our task begins here at home. My administration is committed to ensuring every person is free to flourish in a society that values and defends equal justice for all. HumanRightsDay\n",
            "\n",
            "26) Secretary-designate Lloyd Austin is feared by our adversaries, respected by our allies, and beloved by the men and women of America’s armed forces.\n",
            "\n",
            "I am honored to nominate him as the 28th Secretary of Defense. \n",
            "\n",
            "27) 46: Our national security team will be relentless in keeping our country safe, with a vision on how to tackle the most pressi…\n",
            "\n",
            "28) Throughout his lifetime of dedicated service, General Austin has demonstrated exemplary leadership, character, and command. Tune in as I introduce my nominee for Secretary of Defense. \n",
            "\n",
            "29) This health team is made up of world-class experts at the top of their fields who are ready on day one to get the pandemic under control so we can get back to work, back to our lives, and back to our loved ones. \n",
            "\n",
            "30) Today, I'm announcing key COVID-19 priorities for the first 100 days of my administration:\n",
            "\n",
            "- Everyone wears a mask\n",
            "- 100 million vaccinations\n",
            "- Reopen the majority of schools\n",
            "\n",
            "With these steps, we can change the course of the disease and change life in America for the better.\n",
            "\n",
            "31) I know General Austin. I trust him. Because I know how he reacts under pressure.\n",
            "\n",
            "When ISIS emerged as a terrorist threat, President Obama and I turned to General Austin in the Situation Room and he led us through.\n",
            "\n",
            "Now, I turn to him again as Secretary of Defense. \n",
            "\n",
            "32) In the many hours we've spent together in the Situation Room and with our troops—I've witnessed General Austin's character. \n",
            "\n",
            "He shares my belief that we are strongest when we lead not only by the example of our power, but by the power of our example. \n",
            "\n",
            "33) I need a team that’s ready on day one to contain the pandemic and ensure everyone has access to quality, affordable health care. This is that team. Tune in as I introduce them for the first time. \n",
            "\n",
            "34) Chuck Yeager redefined the possible. Where others saw limits, he saw opportunity and never stopped pushing the boundaries of flight. Above all, he was a patriot who dedicated his life to serving our nation. Jill and I are keeping his loved ones in our prayers. \n",
            "\n",
            "35) There has never been anyone more qualified to be Treasury Secretary than Janet Yellen. Period.\n",
            "\n",
            "I trust her knowledge and look forward to working with her to build our economy back better. \n",
            "\n",
            "36) Paul Sarbanes and I served together on the Foreign Relations Committee for 30 years. There was no one sharper, more committed, or with firmer principles. And he, too, returned to his family nearly every night. They meant the world to him.\n",
            "\n",
            "Rest In Peace, Paul. \n",
            "\n",
            "37) Today, we remember those we lost at Pearl Harbor 79 years ago — and we salute those who answered duty’s call with strength and courage. Our nation owes an incredible debt to those who have served and must ensure they and their families receive the care they’ve earned.\n",
            "\n",
            "38) Dr. Fauci isn't just one of our foremost experts on combating viruses—he is a good man and a tireless public servant. He has served six presidents and led us through some of our toughest challenges.\n",
            "\n",
            "Our administration, and our country, will be stronger because of his guidance.\n",
            "\n",
            "39) This team of world-class medical experts and public servants will be ready on day one to implement a full government response to this crisis.\n",
            "\n",
            "Together, we'll overcome our toughest challenges and make health care a right for all Americans. \n",
            "\n",
            "40) 46: Our health team will be ready to combat our most pressing health challenges: containing the pandemic, tackling inequity,…\n",
            "\n",
            "41) The dreams of too many Americans have been deferred for too long. \n",
            "\n",
            "We must make the promise of this nation real for everybody — no matter their race, identity, ethnicity, or faith.\n",
            "\n",
            "42) With COVID-19 cases rising across the nation, we need to ramp up our production of personal protective equipment. We have to ensure our brave health care workers have everything they need to safely battle this virus.\n",
            "\n",
            "43) My dad used to say, “Joey, I don’t expect the government to solve my problems. But I expect it to understand my problems.”\n",
            "\n",
            "Folks out there aren’t looking for a handout — they just need help. They’re in trouble through no fault of their own, and they need us to understand. \n",
            "\n",
            "44) With less than 50 days until Inauguration Day, now is the perfect time to stock up on gear to celebrate. Head to  to find everything you need.\n",
            "\n",
            "45) On the day I’m inaugurated, I’ll call on the public to wear a mask for 100 days.\n",
            "\n",
            "Let’s keep our fellow Americans safe and save lives. \n",
            "\n",
            "46) I nominated  to lead OMB because she's a brilliant policy mind with experience across government. She will help us control the virus, deal with the economic crisis, and build back better. And above all she believes what I believe: a budget should reflect our values. \n",
            "\n",
            "47) As soon as Dr. Fauci declares we have a safe vaccine, I’ll take it. \n",
            "\n",
            "48) 46: If we are going to tackle the climate crisis, then solutions must be woven into every aspect of our economic policy.\n",
            "\n",
            "Bri…\n",
            "\n",
            "49) Once a vaccine is ready and approved,  and I are going to ensure it’s distributed equitably, efficiently, and free of charge to every American.\n",
            "\n",
            "50) Congratulations to the newest United States Senator . I know he’ll serve the people of Arizona well, and I look forward to working together to build this country back better.\n",
            "\n",
            "51) From the most unequal economic and jobs crisis in modern history, we can build a new American economy that works for everyone.\n",
            "\n",
            "But we need to act now — and we have to work together.\n",
            "\n",
            "52) Today, I was proud to announce key nominations and appointments for critical economic positions in the Biden-Harris administration.\n",
            "\n",
            "A first-rate team that will get us through the economic crisis and help build our economy back better than before. \n",
            "\n",
            "53) My message to everyone struggling right now is this: Help is on the way.\n",
            "\n",
            "54) We need to deliver immediate relief for the American people and build our economy back better than ever. Tune in as I introduce key members of my economic team for the first time. \n",
            "\n",
            "55) . President Larry Willis was a relentless champion for working families. Jill and I are keeping his loved ones in our prayers. \n",
            "\n",
            "56) Jill and I send our best wishes to everyone celebrating the Hmong New Year. Things look a little different this year, but we hope your festivities are safe and joyous as you mark the possibilities of new beginnings. Nyob Zoo Xyoo Tshiab!\n",
            "\n",
            "57) My administration won’t just build back to the way things were before — we’re going to build back better. We’re going to ensure every single American has a fair shot to get ahead.\n",
            "\n",
            "58) We have no time to lose to address the economic crisis we face and build our economy back better.\n",
            "\n",
            "This team will be ready on Day One to pull every lever of government to help those hardest hit by COVID-19 and right the structural inequalities in our economy. \n",
            "\n",
            "59) 46: This crisis-tested team will help lift America out of our current economic downturn and build back better—creating an eco…\n",
            "\n",
            "60) : Today, we are proud to announce the Presidential Inaugural Committee for the next President and Vice President of the U…\n",
            "\n",
            "61) 46: President-elect Biden and Vice President-elect Harris today announced new members of the White House staff who will serve…\n",
            "\n",
            "62) Let me be clear: Wearing a mask is not about making your life less comfortable or taking something away. It’s to give something back to all of us — a normal life.\n",
            "\n",
            "63) I’ve always believed we can define America in one word: Possibilities.\n",
            "\n",
            "We’re going to build an America where everyone has the opportunity to go as far as their dreams and God-given ability will take them.\n",
            "\n",
            "64) Each of us has a responsibility in our own lives to do what we can to slow the virus.\n",
            "\n",
            "Every decision we make matters. Every decision we make can save a life. \n",
            "\n",
            "65) This is our moment — ours together — to write a newer, bolder, more compassionate chapter in the life of our nation.\n",
            "\n",
            "66) This Native American Heritage Day, we give thanks to our Indigenous communities and their ancestors. As we celebrate their rich heritage and contributions, let’s commit to writing a new future together — one built on a strong partnership and filled with opportunity for all.\n",
            "\n",
            "67) Jill and I were honored today to talk to some of the heroes on the front lines of this crisis. We’re thankful today and every day for the nurses and firefighters who sacrifice so much to keep our communities safe. We see the very best of America in your courage and selflessness. \n",
            "\n",
            "68) Thanksgiving has always been a special time for the Biden family. And while I know this isn’t the way many of us hoped to spend the holiday, the small act of staying home is a gift to our fellow Americans. \n",
            "\n",
            "69) Don’t let yourself surrender to the fatigue.\n",
            "\n",
            "America is not going to lose the war against this virus. \n",
            "\n",
            "We’ll get our lives back. Life is going to return to normal. I promise.\n",
            "\n",
            "70) Today, on the International Day for the Elimination of Violence Against Women, I reaffirm my commitment to ending this epidemic. A Biden-Harris administration will take bold action here at home and rejoin global efforts to confront gender-based violence in all its forms.\n",
            "\n",
            "71) The COVID-19 pandemic has made matters worse, creating a “shadow pandemic” for many women and girls who are largely confined to their home with their abuser and facing economic insecurity that makes escape more difficult.\n",
            "\n",
            "72) As many as 1 in 3 women is the victim of gender-based violence at some point in her life, and that rate is even higher for women of color, lesbian and bisexual women, transgender individuals, and other members of vulnerable or underserved communities.\n",
            "\n",
            "73) The challenge before us right now is immense — we need bold action to fight this pandemic. That’s why  and I are getting right to work preparing to get this virus under control.\n",
            "\n",
            "74) I believe America is strongest when we work with our allies.\n",
            "\n",
            "It's how we keep this country safe, counter terrorism and extremism, control this pandemic, deal with the climate crisis, and so much more.\n",
            "\n",
            "75) While this team has unmatched experience and accomplishments, they also reflect the idea that we cannot meet the challenges we face with old thinking or unchanged habits. \n",
            "\n",
            "76) I’ve long said that America leads not by the example of our power, but by the power of our example.\n",
            "\n",
            "I am proud to put forward this incredible team that will lead by example. \n",
            "\n",
            "77) This team is ready to lead the world, not retreat from it.\n",
            "\n",
            "Ready to confront our adversaries, not reject our allies.\n",
            "\n",
            "And ready to stand up for our values. \n",
            "\n",
            "78) Despite overt political pressure from the president, over the last 24 hours, MI, PA, and NV certified their results and the GSA began the transition. Still, President Trump has not conceded.\n",
            "\n",
            "Here’s the latest from my Senior Advisor and former White House Counsel Bob Bauer. \n",
            "\n",
            "79) We have no time to lose when it comes to our national security and foreign policy — I need a team that’s ready on day one. Tune in as I introduce key members of that team for the first time. \n",
            "\n",
            "80) Vice President-elect  and I spent the afternoon meeting with a bipartisan group of mayors. It was just the start of what I know will be a strong partnership in the months and years ahead. Together, we’re going to beat COVID-19 and build back better. \n",
            "\n",
            "81) Today, I’m announcing the first members of my national security and foreign policy team. They will rally the world to take on our challenges like no other—challenges that no one nation can face alone.\n",
            "\n",
            "It’s time to restore American leadership. I trust this group to do just that. \n",
            "\n",
            "82) 46: Under the Biden-Harris administration, American national security and foreign policy will be led by experienced professio…\n",
            "\n",
            "83) I pledge to be a president who seeks not to divide, but to unify.\n",
            "\n",
            "Who doesn’t see red and blue states, but a United States.\n",
            "\n",
            "And who will work with all my heart to win the confidence of the whole people.\n",
            "\n",
            "84) Anyone who wants a COVID-19 test should be able to get one. Period.\n",
            "\n",
            "85) This afternoon,  and I met with  and  to discuss how we’ll get this virus under control, deliver much-needed relief, and build back better than before. \n",
            "\n",
            "We’re getting right to work for the American people. \n",
            "\n",
            "86) Here's the deal: Because President Trump refuses to concede and is delaying the transition, we have to fund it ourselves and need your help.\n",
            "\n",
            "If you're able, chip in to help fund the Biden-Harris transition. \n",
            "\n",
            "87) Tune in as my team provides an update on the Trump Administration’s efforts to delay ascertainment and how we are moving forward to ensure a smooth transition of power. \n",
            "\n",
            "88) Tune in as my campaign adviser Bob Bauer provides a post-election legal briefing. \n",
            "\n",
            "89) To the families and friends of those we've lost due to COVID-19 — Jill and I send our love and prayers.\n",
            "\n",
            "We know how tough it is to find purpose in the memory of the loved one you lost. It will take time — but you will find it, and we will find our purpose as a nation. \n",
            "\n",
            "90) This afternoon,  and I met with a bipartisan group of governors from the ’s Executive Committee. We might be Democrats and Republicans, but we’re Americans first — and together, we’re going to beat COVID-19. \n",
            "\n",
            "91) The workers on the frontlines of this pandemic are making extraordinary sacrifices every single day. They deserve leaders who will listen and work as hard for them as they are for their communities. As president, that’s exactly what I’ll do. \n",
            "\n",
            "92) The health care workers on the frontlines of this pandemic are true heroes. Tune in as we thank them for their work and discuss how a Biden-Harris administration will support them. \n",
            "\n",
            "93) Today,  and I met with some of our country's most experienced national security experts to discuss the challenges facing our nation, our institutions, and the world. We're ready to tackle the challenges our administration will inherit on day one. \n",
            "\n",
            "94) I’m keeping in my prayers all of our friends and neighbors in Hurricane Iota’s path and those impacted by Hurricane Eta across Central America. The increasing frequency of these powerful storms is another reason that fighting climate change will be one of my top priorities.\n",
            "\n",
            "95) Americans want us to cooperate. They want us to deliver results. That’s the choice Kamala and I will make. That's why I am pleased that today we were able to bring together business and labor leaders to make that choice with us.\n",
            "\n",
            "We’re all Americans. Let’s get to work together.\n",
            "\n",
            "96) When we build back better, we will do so with higher wages — including a $15 minimum wage — better benefits and stronger collective bargaining rights that you can raise a family on.\n",
            "\n",
            "That’s how we will build back the middle class better than ever.\n",
            "\n",
            "97) Right now, Congress should come together and pass a COVID relief package like the HEROES Act that the House passed six months ago. Once we shut down the virus and deliver economic relief to workers and businesses, then we can build back better than ever before.\n",
            "\n",
            "98) Tune in as I deliver remarks on our economic recovery and how my administration plans to build back better in the long term. \n",
            "\n",
            "99) Once again, I congratulate the brilliant women and men who produced this breakthrough and have brought us one step closer to beating this virus. I am also thankful for the frontline workers who are still confronting the virus around the clock.\n",
            "\n",
            "100) Today's news of a second vaccine is further reason to feel hopeful. What was true with the first vaccine remains true with the second: we are still months away. Until then, Americans need to continue to practice social-distancing and mask-wearing to get the virus under control.\n",
            "\n",
            "101) 46: On today's anniversary of the Clean Air Act, the task of protecting the air we breathe has never been more urgent or more…\n",
            "\n",
            "102) To the millions of Hindus, Jains, Sikhs, and Buddhists celebrating the Festival of Lights,  and I send our best wishes for a HappyDiwali. May your new year be filled with hope, happiness, and prosperity. Sal Mubarak.\n",
            "\n",
            "103) I am the president-elect, but will not be president until next year. COVID-19 does not respect dates on the calendar, it is accelerating right now. Urgent action is needed today, now, by the current administration.\n",
            "\n",
            "104) I extend my deep condolences to the loved ones of the peacekeepers, including 6 American service members, who died on Tiran Island, and wish a speedy recovery to the surviving American. I join all Americans in honoring their sacrifice, as I keep their loved ones in my prayers.\n",
            "\n",
            "105) Because of the Affordable Care Act:\n",
            "\n",
            "- People with pre-existing conditions are protected\n",
            "- More than 20 million Americans gained coverage\n",
            "- Nearly 12 million seniors have had their prescription drug costs reduced\n",
            "\n",
            "Now more than ever, we have to protect and build on it. \n",
            "\n",
            "106) Ron Klain’s deep, varied experience and capacity to work with people all across the political spectrum is precisely what I need in a White House chief of staff as we confront this moment of crisis and bring our country together again. \n",
            "\n",
            "107) This Veterans Day, I feel the full weight of the honor and the responsibility that has been entrusted to me by the American people as the next president, and I vow to honor our country’s sacred obligation. \n",
            "\n",
            "108) Today, we honor the service of those who have worn the uniform of the Armed Forces of the United States. \n",
            "\n",
            "To our proud veterans—I will be a commander in chief who respects your sacrifice, understands your service, and will never betray the values you fought so bravely to defend.\n",
            "\n",
            "109) We are going to build a health care system that puts you and your family first — and that every American can be proud of.\n",
            "\n",
            "110) Come January, we will work quickly with Congress to dramatically ramp up health care protections, get America to universal coverage, and lower health care costs.\n",
            "\n",
            "111) Tune in as my campaign provides a post-election legal briefing. \n",
            "\n",
            "112) . and I aren’t wasting any time. We’re ready to get COVID-19 under control so that we can reopen our businesses and schools safely, resume our lives, and put this pandemic behind us. \n",
            "\n",
            "113) The challenge before us right now is still immense and growing, and so is the need for bold action to fight this pandemic.\n",
            "\n",
            "114) My COVID-19 Transition Advisory Board will advise on detailed plans built on a bedrock of science, and that keep compassion, empathy, and care for every American at its core.\n",
            "\n"
          ],
          "name": "stdout"
        }
      ]
    },
    {
      "cell_type": "code",
      "metadata": {
        "colab": {
          "base_uri": "https://localhost:8080/"
        },
        "id": "bIoX26PDsjIh",
        "outputId": "19608707-6eb5-4ebd-c8c3-789157a1713a"
      },
      "source": [
        "# Printing negative tweets  \r\n",
        "print('Printing negative tweets:\\n')\r\n",
        "j=1\r\n",
        "sortedDF = df.sort_values(by=['Polarity'],ascending=False) #Sort the tweets\r\n",
        "for i in range(0, sortedDF.shape[0] ):\r\n",
        "  if( sortedDF['Analysis'][i] == 'Negative'):\r\n",
        "    print(str(j) + ') '+sortedDF['Tweets'][i])\r\n",
        "    print()\r\n",
        "    j=j+1"
      ],
      "execution_count": 80,
      "outputs": [
        {
          "output_type": "stream",
          "text": [
            "Printing negative tweets:\n",
            "\n",
            "1) As I said throughout the campaign: I will be a president for all Americans.\n",
            "\n",
            "I will work just as hard for those of you who didn’t vote for me as I will for those who did.\n",
            "\n",
            "2) In America, politicians don’t take power — the people grant it to them. \n",
            "\n",
            "The flame of democracy was lit in this nation a long time ago.\n",
            "\n",
            "And we now know that nothing — not even a pandemic or an abuse of power — can extinguish that flame.\n",
            "\n",
            "3) We may be physically apart during these difficult times, but you’re not alone. Take a few minutes today to reach out to friends and family. We’ll get through this, together. \n",
            "\n",
            "4) There are just a few days left of Obamacare's open enrollment for 2021 coverage. Don't wait — visit  today to find an affordable, quality plan that works for you.\n",
            "\n",
            "5) We must prepare to meet the challenges of the future — not keep fighting the wars of the past. \n",
            "\n",
            "6) I know times are tough, the challenges are daunting, but I know we can do this.\n",
            "\n",
            "We can create an economic recovery for all. We can move from crisis to recovery to resurgence.\n",
            "\n",
            "This is the United States of America. We’ve done it before — and we will do it again.\n",
            "\n",
            "7) If Congress and President Trump fail to act by the end of December:\n",
            "\n",
            "- 12 million Americans will lose unemployment benefits\n",
            "- Emergency paid leave will end\n",
            "- The moratorium on evictions will expire \n",
            "\n",
            "The situation is urgent. Americans need help and they need it now.\n",
            "\n",
            "8) Our country is in the middle of a dramatic spike in COVID-19 cases. Please wear a mask, keep social distancing, and limit the size of any groups. It’s our patriotic duty as Americans.\n",
            "\n",
            "9) It’s time we reward hard work in America — not just wealth.\n",
            "\n",
            "10) Yesterday, I spent the afternoon hearing from workers and small business owners on the economic impact COVID-19 has had on their lives. Americans are hurting — it’s why as president, I’ll work to provide immediate relief and get our economy back on track. \n",
            "\n",
            "11) We’re facing the worst economic crisis since the Great Depression — and Americans need immediate relief. Tune in for a discussion with workers and small business owners on how we move forward. \n",
            "\n",
            "12) This World AIDS Day, Jill and I join with communities around the globe to remember those we've lost. Because of the hard work of advocates, activists, and frontline workers, an AIDS-free generation is within reach — and my administration will work tirelessly to make it a reality.\n",
            "\n",
            "13) It’s time to put away the harsh rhetoric, lower the temperature, and listen to each other again.\n",
            "\n",
            "To make progress, we must stop treating our opponents as our enemy. \n",
            "\n",
            "We are not enemies. We are Americans.\n",
            "\n",
            "14) : Food banks across our nation are struggling to keep up with the demand due to COVID-19. Know that when  and I ar…\n",
            "\n",
            "15) For those who have lost loved ones — I know this time of year is especially difficult. I will be thinking and praying for each and every one of you at your Thanksgiving table. \n",
            "\n",
            "16) We need to remember: We’re at war with a virus — not with each other.\n",
            "\n",
            "17) At least 37 transgender and gender-nonconforming people have been killed this year, most of them Black and Brown transgender women. It’s intolerable. This Transgender Day of Remembrance, we honor their lives—and recommit to the work that remains to end this epidemic of violence.\n",
            "\n",
            "18) Today marks five years since the horrific ISIS terrorist attacks in Paris — an assault not just on the people of France but against our common humanity.\n",
            "\n",
            "As president, I will work to protect Americans and our allies, countering terrorism and extremist violence in all forms.\n",
            "\n",
            "19) If you’re sick, if you’re struggling, if you’re worried about how you’re going to get through the day — we will not abandon you.\n",
            "\n",
            "We will not leave you to face these challenges alone. \n",
            "\n",
            "20) When I’m speaking to foreign leaders, I’m telling them: America is going to be back. We’re going to be back in the game.\n",
            "\n",
            "21) I spent the morning with the co-chairs of my COVID-19 Council discussing the status of this pandemic and how we move forward. Tune in as I provide an update on how we're going to beat this virus. \n",
            "\n"
          ],
          "name": "stdout"
        }
      ]
    },
    {
      "cell_type": "code",
      "metadata": {
        "colab": {
          "base_uri": "https://localhost:8080/",
          "height": 513
        },
        "id": "NGnJVGxQsykI",
        "outputId": "bfc94e89-9add-4310-baae-2246ab1adbf8"
      },
      "source": [
        "# Plotting \r\n",
        "plt.figure(figsize=(11,8)) \r\n",
        "for i in range(0, df.shape[0]):\r\n",
        "  plt.scatter(df[\"Polarity\"][i], df[\"Subjectivity\"][i], color='black') \r\n",
        "# plt.scatter(x,y,color)   \r\n",
        "plt.title('Sentiment Analysis') \r\n",
        "plt.xlabel('Polarity') \r\n",
        "plt.ylabel('Subjectivity') \r\n",
        "plt.show()"
      ],
      "execution_count": 81,
      "outputs": [
        {
          "output_type": "display_data",
          "data": {
            "image/png": "[encoded data removed]",
            "text/plain": [
              "<Figure size 792x576 with 1 Axes>"
            ]
          },
          "metadata": {
            "tags": [],
            "needs_background": "light"
          }
        }
      ]
    },
    {
      "cell_type": "code",
      "metadata": {
        "colab": {
          "base_uri": "https://localhost:8080/"
        },
        "id": "TCrWTu8dtM2E",
        "outputId": "ae67e119-2939-4ab2-f233-ce7bbaf9569d"
      },
      "source": [
        "# Print the percentage of positive tweets\r\n",
        "ptweets = df[df.Analysis == 'Positive']\r\n",
        "ptweets = ptweets['Tweets']\r\n",
        "ptweets\r\n",
        "\r\n",
        "round( (ptweets.shape[0] / df.shape[0]) * 1000 , 1)"
      ],
      "execution_count": 82,
      "outputs": [
        {
          "output_type": "execute_result",
          "data": {
            "text/plain": [
              "570.0"
            ]
          },
          "metadata": {
            "tags": []
          },
          "execution_count": 82
        }
      ]
    },
    {
      "cell_type": "code",
      "metadata": {
        "colab": {
          "base_uri": "https://localhost:8080/"
        },
        "id": "Ab-9KzCttmSa",
        "outputId": "e3c8a3db-2506-4b94-db74-606880d6a148"
      },
      "source": [
        "# Print the percentage of negative tweets\r\n",
        "ntweets = df[df.Analysis == 'Negative']\r\n",
        "ntweets = ntweets['Tweets']\r\n",
        "ntweets\r\n",
        "\r\n",
        "round( (ntweets.shape[0] / df.shape[0]) * 1000, 1)"
      ],
      "execution_count": 83,
      "outputs": [
        {
          "output_type": "execute_result",
          "data": {
            "text/plain": [
              "105.0"
            ]
          },
          "metadata": {
            "tags": []
          },
          "execution_count": 83
        }
      ]
    },
    {
      "cell_type": "code",
      "metadata": {
        "colab": {
          "base_uri": "https://localhost:8080/"
        },
        "id": "UQu5muRztzkI",
        "outputId": "c9152f5c-1c31-417c-a174-221986f84693"
      },
      "source": [
        "# Show the value counts\r\n",
        "df['Analysis'].value_counts()"
      ],
      "execution_count": 84,
      "outputs": [
        {
          "output_type": "execute_result",
          "data": {
            "text/plain": [
              "Positive    114\n",
              "Neutral      65\n",
              "Negative     21\n",
              "Name: Analysis, dtype: int64"
            ]
          },
          "metadata": {
            "tags": []
          },
          "execution_count": 84
        }
      ]
    },
    {
      "cell_type": "code",
      "metadata": {
        "colab": {
          "base_uri": "https://localhost:8080/",
          "height": 331
        },
        "id": "FAKvYW_ft_5k",
        "outputId": "1f2c9838-2e88-426e-c3a2-e45c9a11230c"
      },
      "source": [
        "# Plotting and visualizing the counts\r\n",
        "plt.title('Sentiment Analysis')\r\n",
        "plt.xlabel('Sentiment')\r\n",
        "plt.ylabel('Counts')\r\n",
        "df['Analysis'].value_counts().plot(kind = 'bar')\r\n",
        "plt.show()"
      ],
      "execution_count": 85,
      "outputs": [
        {
          "output_type": "display_data",
          "data": {
            "image/png": "[encoded data removed]",
            "text/plain": [
              "<Figure size 432x288 with 1 Axes>"
            ]
          },
          "metadata": {
            "tags": [],
            "needs_background": "light"
          }
        }
      ]
    },
    {
      "cell_type": "code",
      "metadata": {
        "id": "878hFPbhuRb6"
      },
      "source": [
        ""
      ],
      "execution_count": null,
      "outputs": []
    },
    {
      "cell_type": "code",
      "metadata": {
        "colab": {
          "base_uri": "https://localhost:8080/",
          "height": 296
        },
        "id": "33-7UzpmuSBW",
        "outputId": "2901150c-7d3c-42ef-a051-f798abf138be"
      },
      "source": [
        "plt.title('Sentiment Analysis')\r\n",
        "plt.xlabel('Sentiment')\r\n",
        "plt.ylabel('Counts')\r\n",
        "df['Analysis'].value_counts().plot(kind = 'line')\r\n",
        "plt.show()"
      ],
      "execution_count": 86,
      "outputs": [
        {
          "output_type": "display_data",
          "data": {
            "image/png": "[encoded data removed]",
            "text/plain": [
              "<Figure size 432x288 with 1 Axes>"
            ]
          },
          "metadata": {
            "tags": [],
            "needs_background": "light"
          }
        }
      ]
    },
    {
      "cell_type": "code",
      "metadata": {
        "id": "OuOKuo9cvFE8"
      },
      "source": [
        ""
      ],
      "execution_count": null,
      "outputs": []
    }
  ]
}