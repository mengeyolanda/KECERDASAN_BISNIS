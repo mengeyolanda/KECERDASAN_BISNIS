{
  "nbformat": 4,
  "nbformat_minor": 0,
  "metadata": {
    "colab": {
      "name": "Analisis Sentiment(Kasus_Pfizer).ipynb",
      "provenance": []
    },
    "kernelspec": {
      "name": "python3",
      "display_name": "Python 3"
    }
  },
  "cells": [
    {
      "cell_type": "code",
      "metadata": {
        "id": "dQnwM_HGgU54"
      },
      "source": [
        "import tweepy\r\n",
        "from textblob import TextBlob\r\n",
        "from wordcloud import WordCloud\r\n",
        "import pandas as pd\r\n",
        "import numpy as np\r\n",
        "import re\r\n",
        "import matplotlib.pyplot as plt\r\n",
        "plt.style.use('fivethirtyeight')"
      ],
      "execution_count": 1,
      "outputs": []
    },
    {
      "cell_type": "code",
      "metadata": {
        "id": "sooCO6PBg8vD"
      },
      "source": [
        "consumer_key = 'LrSxpWHRWjwa2h8R4SQOZJUIV'\r\n",
        "consumer_secret_key = '8d3xWVMKm6LpXDIbZW930I5eiH0kb0jhtNr8pvSHkABm63qPh9'\r\n",
        "access_token = '1334421915549585408-8HocCnFw9QvWCZLXbei8QL5BrwfFi4'\r\n",
        "access_token_secret = 'DePvAq20EWinXLyCi82cfPYIedfAamMMRXet5L40e8XWO'"
      ],
      "execution_count": 2,
      "outputs": []
    },
    {
      "cell_type": "code",
      "metadata": {
        "id": "0zjRittwiL7C"
      },
      "source": [
        "auth = tweepy.OAuthHandler(consumer_key,consumer_secret_key)\r\n",
        "auth.set_access_token(access_token,access_token_secret)\r\n",
        "api = tweepy.API(auth)"
      ],
      "execution_count": 3,
      "outputs": []
    },
    {
      "cell_type": "code",
      "metadata": {
        "colab": {
          "base_uri": "https://localhost:8080/"
        },
        "id": "IzoquecYiwud",
        "outputId": "9f8f2f44-fb7b-4496-bceb-540f916cbb6f"
      },
      "source": [
        "posts = api.user_timeline(screen_name=\"Pfizer\", count=1000, lang=\"en\", tweet_mode=\"extended\")\r\n",
        "\r\n",
        "# Print the last 10 tweets\r\n",
        "print(\"Show the 10 recent tweets:\\n\")\r\n",
        "i=1\r\n",
        "for tweet in posts[:10]:\r\n",
        "  print(str(i) +') '+ tweet.full_text + '\\n')\r\n",
        "  i= i+1"
      ],
      "execution_count": 7,
      "outputs": [
        {
          "output_type": "stream",
          "text": [
            "Show the 10 recent tweets:\n",
            "\n",
            "1) RT @AlbertBourla: Every day, I’m asked variations of the same question: How will @Pfizer &amp; @BioNTech_Group rapidly, seamlessly distribute o…\n",
            "\n",
            "2) #PfizerProud to announce that our scientists have dosed the first patients in a Phase 2 trial. This is a novel investigational medicine that is being researched for restoration of bone growth in children born with #Achondroplasia, the most common form of dwarfism. Learn more:\n",
            "\n",
            "3) We’re applying scientific innovation to help fight climate change by reducing our carbon emissions and the environmental impact of our medicines. Learn more about our renewed climate action commitments here: https://t.co/xhKNjCvzid\n",
            "\n",
            "4) RT @AlbertBourla: Terrific to see this message outside our office in Collegeville, PA. I’m sure it brought #joy to our colleagues there. Th…\n",
            "\n",
            "5) A weekend away in nature can be life changing for women with #BreastCancer. We’re joining @Cast4Recovery on Dec 16 at 12pm ET on Facebook and LinkedIn for a live discussion about how they use fly fishing as a form of therapy. https://t.co/NeCSYGbrnL #HealthEquity https://t.co/KGKJDXLNVv\n",
            "\n",
            "6) #PfizerProud 💙\n",
            ".\n",
            ".\n",
            "The Pfizer-BioNTech #COVID19 vaccine has not been approved or licensed by the @US_FDA but has been authorized for emergency use to prevent COVID-19 in individuals 16+. See conditions of use: https://t.co/OS1tgYopUj https://t.co/h64BZr38iN\n",
            "\n",
            "7) Pfizer is proud to support independent initiatives to improve #patient outcomes through our competitive grants program in #inflammation &amp; #immunology. Learn about these programs from Ehab Mahgoub, MS, MSc, VP of I&amp;I at Pfizer https://t.co/TZWuQI5u2z https://t.co/xW3BJXlRzr\n",
            "\n",
            "8) 📸: The first shipment from our Kalamazoo plant. @UPS @FedEx \n",
            ".\n",
            ".\n",
            "The Pfizer-BioNTech #COVID19 vaccine has not been approved or licensed by the @US_FDA but has been authorized for emergency use to prevent COVID-19 in individuals 16+. See conditions of use: https://t.co/OS1tgYopUj https://t.co/yogti0Ahcq\n",
            "\n",
            "9) UPDATE: The @CDCgov's Advisory Committee on Immunization Practices (#ACIP) voted today to recommend the use of the Pfizer-@BioNTech_Group #COVID19 mRNA vaccine, in people 16 years of age and older.\n",
            "\n",
            "More: https://t.co/6gEi57sXc0 https://t.co/e57dAu0xFA https://t.co/rS8aDmWM9s\n",
            "\n",
            "10) The Pfizer-BioNTech COVID-19 vaccine has not been approved or licensed by the U.S. FDA but has been authorized for emergency use to prevent COVID-19 in individuals 16+. See conditions of use: https://t.co/OS1tgYopUj\n",
            "\n"
          ],
          "name": "stdout"
        }
      ]
    },
    {
      "cell_type": "code",
      "metadata": {
        "colab": {
          "base_uri": "https://localhost:8080/",
          "height": 204
        },
        "id": "eMZ6jHMeopkH",
        "outputId": "0e00b8dd-433e-489c-c021-468e23f3bfea"
      },
      "source": [
        "df = pd.DataFrame([tweet.full_text for tweet in posts], columns=['Tweets'])\r\n",
        "#Show the first 10 rows of data\r\n",
        "df.head()"
      ],
      "execution_count": 8,
      "outputs": [
        {
          "output_type": "execute_result",
          "data": {
            "text/html": [
              "<div>\n",
              "<style scoped>\n",
              "    .dataframe tbody tr th:only-of-type {\n",
              "        vertical-align: middle;\n",
              "    }\n",
              "\n",
              "    .dataframe tbody tr th {\n",
              "        vertical-align: top;\n",
              "    }\n",
              "\n",
              "    .dataframe thead th {\n",
              "        text-align: right;\n",
              "    }\n",
              "</style>\n",
              "<table border=\"1\" class=\"dataframe\">\n",
              "  <thead>\n",
              "    <tr style=\"text-align: right;\">\n",
              "      <th></th>\n",
              "      <th>Tweets</th>\n",
              "    </tr>\n",
              "  </thead>\n",
              "  <tbody>\n",
              "    <tr>\n",
              "      <th>0</th>\n",
              "      <td>RT @AlbertBourla: Every day, I’m asked variati...</td>\n",
              "    </tr>\n",
              "    <tr>\n",
              "      <th>1</th>\n",
              "      <td>#PfizerProud to announce that our scientists h...</td>\n",
              "    </tr>\n",
              "    <tr>\n",
              "      <th>2</th>\n",
              "      <td>We’re applying scientific innovation to help f...</td>\n",
              "    </tr>\n",
              "    <tr>\n",
              "      <th>3</th>\n",
              "      <td>RT @AlbertBourla: Terrific to see this message...</td>\n",
              "    </tr>\n",
              "    <tr>\n",
              "      <th>4</th>\n",
              "      <td>A weekend away in nature can be life changing ...</td>\n",
              "    </tr>\n",
              "  </tbody>\n",
              "</table>\n",
              "</div>"
            ],
            "text/plain": [
              "                                              Tweets\n",
              "0  RT @AlbertBourla: Every day, I’m asked variati...\n",
              "1  #PfizerProud to announce that our scientists h...\n",
              "2  We’re applying scientific innovation to help f...\n",
              "3  RT @AlbertBourla: Terrific to see this message...\n",
              "4  A weekend away in nature can be life changing ..."
            ]
          },
          "metadata": {
            "tags": []
          },
          "execution_count": 8
        }
      ]
    },
    {
      "cell_type": "code",
      "metadata": {
        "colab": {
          "base_uri": "https://localhost:8080/",
          "height": 419
        },
        "id": "SI9UjSM8pp1A",
        "outputId": "e1e6b615-feed-4cd7-9934-e7cf56ea2b15"
      },
      "source": [
        "# Create a function to clean the tweets\r\n",
        "def cleanTxt(text):\r\n",
        " text = re.sub('@[A-Za-z0–9]+', '', text) #Removing @mentions\r\n",
        " text = re.sub('#', '', text) # Removing '#' hash tag\r\n",
        " text = re.sub('RT[\\s]+', '', text) # Removing RT\r\n",
        " text = re.sub('https?:\\/\\/\\S+', '', text) # Removing hyperlink\r\n",
        " \r\n",
        " return text\r\n",
        "\r\n",
        "\r\n",
        "# Clean the tweets\r\n",
        "df['Tweets'] = df['Tweets'].apply(cleanTxt)\r\n",
        "\r\n",
        "# Show the cleaned tweets\r\n",
        "df"
      ],
      "execution_count": 9,
      "outputs": [
        {
          "output_type": "execute_result",
          "data": {
            "text/html": [
              "<div>\n",
              "<style scoped>\n",
              "    .dataframe tbody tr th:only-of-type {\n",
              "        vertical-align: middle;\n",
              "    }\n",
              "\n",
              "    .dataframe tbody tr th {\n",
              "        vertical-align: top;\n",
              "    }\n",
              "\n",
              "    .dataframe thead th {\n",
              "        text-align: right;\n",
              "    }\n",
              "</style>\n",
              "<table border=\"1\" class=\"dataframe\">\n",
              "  <thead>\n",
              "    <tr style=\"text-align: right;\">\n",
              "      <th></th>\n",
              "      <th>Tweets</th>\n",
              "    </tr>\n",
              "  </thead>\n",
              "  <tbody>\n",
              "    <tr>\n",
              "      <th>0</th>\n",
              "      <td>: Every day, I’m asked variations of the same ...</td>\n",
              "    </tr>\n",
              "    <tr>\n",
              "      <th>1</th>\n",
              "      <td>PfizerProud to announce that our scientists ha...</td>\n",
              "    </tr>\n",
              "    <tr>\n",
              "      <th>2</th>\n",
              "      <td>We’re applying scientific innovation to help f...</td>\n",
              "    </tr>\n",
              "    <tr>\n",
              "      <th>3</th>\n",
              "      <td>: Terrific to see this message outside our off...</td>\n",
              "    </tr>\n",
              "    <tr>\n",
              "      <th>4</th>\n",
              "      <td>A weekend away in nature can be life changing ...</td>\n",
              "    </tr>\n",
              "    <tr>\n",
              "      <th>...</th>\n",
              "      <td>...</td>\n",
              "    </tr>\n",
              "    <tr>\n",
              "      <th>195</th>\n",
              "      <td>What’s the latest when it comes to protecting ...</td>\n",
              "    </tr>\n",
              "    <tr>\n",
              "      <th>196</th>\n",
              "      <td>In recognition of HispanicHeritageMonth, learn...</td>\n",
              "    </tr>\n",
              "    <tr>\n",
              "      <th>197</th>\n",
              "      <td>As the threat of InfectiousDiseases grows, The...</td>\n",
              "    </tr>\n",
              "    <tr>\n",
              "      <th>198</th>\n",
              "      <td>78486298 If you are interested in employment w...</td>\n",
              "    </tr>\n",
              "    <tr>\n",
              "      <th>199</th>\n",
              "      <td>In a recent interview with BioCentury (), Pfiz...</td>\n",
              "    </tr>\n",
              "  </tbody>\n",
              "</table>\n",
              "<p>200 rows × 1 columns</p>\n",
              "</div>"
            ],
            "text/plain": [
              "                                                Tweets\n",
              "0    : Every day, I’m asked variations of the same ...\n",
              "1    PfizerProud to announce that our scientists ha...\n",
              "2    We’re applying scientific innovation to help f...\n",
              "3    : Terrific to see this message outside our off...\n",
              "4    A weekend away in nature can be life changing ...\n",
              "..                                                 ...\n",
              "195  What’s the latest when it comes to protecting ...\n",
              "196  In recognition of HispanicHeritageMonth, learn...\n",
              "197  As the threat of InfectiousDiseases grows, The...\n",
              "198  78486298 If you are interested in employment w...\n",
              "199  In a recent interview with BioCentury (), Pfiz...\n",
              "\n",
              "[200 rows x 1 columns]"
            ]
          },
          "metadata": {
            "tags": []
          },
          "execution_count": 9
        }
      ]
    },
    {
      "cell_type": "code",
      "metadata": {
        "colab": {
          "base_uri": "https://localhost:8080/",
          "height": 419
        },
        "id": "PSScL2-KrajN",
        "outputId": "97c1587e-e021-4d5b-a5e8-eaf383f5d5da"
      },
      "source": [
        "# Create a function to get the subjectivity\r\n",
        "def getSubjectivity(text):\r\n",
        "   return TextBlob(text).sentiment.subjectivity\r\n",
        "\r\n",
        "# Create a function to get the polarity\r\n",
        "def getPolarity(text):\r\n",
        "   return  TextBlob(text).sentiment.polarity\r\n",
        "\r\n",
        "\r\n",
        "# Create two new columns 'Subjectivity' & 'Polarity'\r\n",
        "df['Subjectivity'] = df['Tweets'].apply(getSubjectivity)\r\n",
        "df['Polarity'] = df['Tweets'].apply(getPolarity)\r\n",
        "\r\n",
        "# Show the new dataframe with columns 'Subjectivity' & 'Polarity'\r\n",
        "df"
      ],
      "execution_count": 10,
      "outputs": [
        {
          "output_type": "execute_result",
          "data": {
            "text/html": [
              "<div>\n",
              "<style scoped>\n",
              "    .dataframe tbody tr th:only-of-type {\n",
              "        vertical-align: middle;\n",
              "    }\n",
              "\n",
              "    .dataframe tbody tr th {\n",
              "        vertical-align: top;\n",
              "    }\n",
              "\n",
              "    .dataframe thead th {\n",
              "        text-align: right;\n",
              "    }\n",
              "</style>\n",
              "<table border=\"1\" class=\"dataframe\">\n",
              "  <thead>\n",
              "    <tr style=\"text-align: right;\">\n",
              "      <th></th>\n",
              "      <th>Tweets</th>\n",
              "      <th>Subjectivity</th>\n",
              "      <th>Polarity</th>\n",
              "    </tr>\n",
              "  </thead>\n",
              "  <tbody>\n",
              "    <tr>\n",
              "      <th>0</th>\n",
              "      <td>: Every day, I’m asked variations of the same ...</td>\n",
              "      <td>0.112500</td>\n",
              "      <td>0.050000</td>\n",
              "    </tr>\n",
              "    <tr>\n",
              "      <th>1</th>\n",
              "      <td>PfizerProud to announce that our scientists ha...</td>\n",
              "      <td>0.458333</td>\n",
              "      <td>0.237500</td>\n",
              "    </tr>\n",
              "    <tr>\n",
              "      <th>2</th>\n",
              "      <td>We’re applying scientific innovation to help f...</td>\n",
              "      <td>0.300000</td>\n",
              "      <td>0.300000</td>\n",
              "    </tr>\n",
              "    <tr>\n",
              "      <th>3</th>\n",
              "      <td>: Terrific to see this message outside our off...</td>\n",
              "      <td>0.534722</td>\n",
              "      <td>0.325000</td>\n",
              "    </tr>\n",
              "    <tr>\n",
              "      <th>4</th>\n",
              "      <td>A weekend away in nature can be life changing ...</td>\n",
              "      <td>0.700000</td>\n",
              "      <td>0.468182</td>\n",
              "    </tr>\n",
              "    <tr>\n",
              "      <th>...</th>\n",
              "      <td>...</td>\n",
              "      <td>...</td>\n",
              "      <td>...</td>\n",
              "    </tr>\n",
              "    <tr>\n",
              "      <th>195</th>\n",
              "      <td>What’s the latest when it comes to protecting ...</td>\n",
              "      <td>0.510714</td>\n",
              "      <td>0.303571</td>\n",
              "    </tr>\n",
              "    <tr>\n",
              "      <th>196</th>\n",
              "      <td>In recognition of HispanicHeritageMonth, learn...</td>\n",
              "      <td>0.500000</td>\n",
              "      <td>0.500000</td>\n",
              "    </tr>\n",
              "    <tr>\n",
              "      <th>197</th>\n",
              "      <td>As the threat of InfectiousDiseases grows, The...</td>\n",
              "      <td>0.500000</td>\n",
              "      <td>0.333333</td>\n",
              "    </tr>\n",
              "    <tr>\n",
              "      <th>198</th>\n",
              "      <td>78486298 If you are interested in employment w...</td>\n",
              "      <td>0.350000</td>\n",
              "      <td>0.250000</td>\n",
              "    </tr>\n",
              "    <tr>\n",
              "      <th>199</th>\n",
              "      <td>In a recent interview with BioCentury (), Pfiz...</td>\n",
              "      <td>0.375000</td>\n",
              "      <td>0.250000</td>\n",
              "    </tr>\n",
              "  </tbody>\n",
              "</table>\n",
              "<p>200 rows × 3 columns</p>\n",
              "</div>"
            ],
            "text/plain": [
              "                                                Tweets  Subjectivity  Polarity\n",
              "0    : Every day, I’m asked variations of the same ...      0.112500  0.050000\n",
              "1    PfizerProud to announce that our scientists ha...      0.458333  0.237500\n",
              "2    We’re applying scientific innovation to help f...      0.300000  0.300000\n",
              "3    : Terrific to see this message outside our off...      0.534722  0.325000\n",
              "4    A weekend away in nature can be life changing ...      0.700000  0.468182\n",
              "..                                                 ...           ...       ...\n",
              "195  What’s the latest when it comes to protecting ...      0.510714  0.303571\n",
              "196  In recognition of HispanicHeritageMonth, learn...      0.500000  0.500000\n",
              "197  As the threat of InfectiousDiseases grows, The...      0.500000  0.333333\n",
              "198  78486298 If you are interested in employment w...      0.350000  0.250000\n",
              "199  In a recent interview with BioCentury (), Pfiz...      0.375000  0.250000\n",
              "\n",
              "[200 rows x 3 columns]"
            ]
          },
          "metadata": {
            "tags": []
          },
          "execution_count": 10
        }
      ]
    },
    {
      "cell_type": "code",
      "metadata": {
        "colab": {
          "base_uri": "https://localhost:8080/",
          "height": 219
        },
        "id": "juZ0JXiIrhNV",
        "outputId": "6dd7b210-11c6-48ad-d79c-09a0b9817de1"
      },
      "source": [
        "# word cloud visualization\r\n",
        "allWords = ' '.join([twts for twts in df['Tweets']])\r\n",
        "wordCloud = WordCloud(width=800, height=400, random_state=20, max_font_size=700).generate(allWords)\r\n",
        "\r\n",
        "\r\n",
        "plt.imshow(wordCloud, interpolation=\"bilinear\")\r\n",
        "plt.axis('off')\r\n",
        "plt.show()"
      ],
      "execution_count": 13,
      "outputs": [
        {
          "output_type": "display_data",
          "data": {
            "image/png": "[encoded data removed]",
            "text/plain": [
              "<Figure size 432x288 with 1 Axes>"
            ]
          },
          "metadata": {
            "tags": [],
            "needs_background": "light"
          }
        }
      ]
    },
    {
      "cell_type": "code",
      "metadata": {
        "colab": {
          "base_uri": "https://localhost:8080/"
        },
        "id": "Ae9EjzmqsEdW",
        "outputId": "9be955c8-549d-4a0a-c275-0b10beb30a5b"
      },
      "source": [
        "pip install WordCloud"
      ],
      "execution_count": 14,
      "outputs": [
        {
          "output_type": "stream",
          "text": [
            "Requirement already satisfied: WordCloud in /usr/local/lib/python3.6/dist-packages (1.5.0)\n",
            "Requirement already satisfied: pillow in /usr/local/lib/python3.6/dist-packages (from WordCloud) (7.0.0)\n",
            "Requirement already satisfied: numpy>=1.6.1 in /usr/local/lib/python3.6/dist-packages (from WordCloud) (1.18.5)\n"
          ],
          "name": "stdout"
        }
      ]
    },
    {
      "cell_type": "code",
      "metadata": {
        "colab": {
          "base_uri": "https://localhost:8080/",
          "height": 419
        },
        "id": "AoTFIwtdsLd6",
        "outputId": "f88e85a7-084d-4be2-8f6a-dc72e712caef"
      },
      "source": [
        "# Create a function to compute negative (-1), neutral (0) and positive (+1) analysis\r\n",
        "def getAnalysis(score):\r\n",
        " if score < 0:\r\n",
        "  return 'Negative'\r\n",
        " elif score == 0:\r\n",
        "  return 'Neutral'\r\n",
        " else:\r\n",
        "  return 'Positive'\r\n",
        "df['Analysis'] = df['Polarity'].apply(getAnalysis)\r\n",
        "# Show the dataframe\r\n",
        "df"
      ],
      "execution_count": 15,
      "outputs": [
        {
          "output_type": "execute_result",
          "data": {
            "text/html": [
              "<div>\n",
              "<style scoped>\n",
              "    .dataframe tbody tr th:only-of-type {\n",
              "        vertical-align: middle;\n",
              "    }\n",
              "\n",
              "    .dataframe tbody tr th {\n",
              "        vertical-align: top;\n",
              "    }\n",
              "\n",
              "    .dataframe thead th {\n",
              "        text-align: right;\n",
              "    }\n",
              "</style>\n",
              "<table border=\"1\" class=\"dataframe\">\n",
              "  <thead>\n",
              "    <tr style=\"text-align: right;\">\n",
              "      <th></th>\n",
              "      <th>Tweets</th>\n",
              "      <th>Subjectivity</th>\n",
              "      <th>Polarity</th>\n",
              "      <th>Analysis</th>\n",
              "    </tr>\n",
              "  </thead>\n",
              "  <tbody>\n",
              "    <tr>\n",
              "      <th>0</th>\n",
              "      <td>: Every day, I’m asked variations of the same ...</td>\n",
              "      <td>0.112500</td>\n",
              "      <td>0.050000</td>\n",
              "      <td>Positive</td>\n",
              "    </tr>\n",
              "    <tr>\n",
              "      <th>1</th>\n",
              "      <td>PfizerProud to announce that our scientists ha...</td>\n",
              "      <td>0.458333</td>\n",
              "      <td>0.237500</td>\n",
              "      <td>Positive</td>\n",
              "    </tr>\n",
              "    <tr>\n",
              "      <th>2</th>\n",
              "      <td>We’re applying scientific innovation to help f...</td>\n",
              "      <td>0.300000</td>\n",
              "      <td>0.300000</td>\n",
              "      <td>Positive</td>\n",
              "    </tr>\n",
              "    <tr>\n",
              "      <th>3</th>\n",
              "      <td>: Terrific to see this message outside our off...</td>\n",
              "      <td>0.534722</td>\n",
              "      <td>0.325000</td>\n",
              "      <td>Positive</td>\n",
              "    </tr>\n",
              "    <tr>\n",
              "      <th>4</th>\n",
              "      <td>A weekend away in nature can be life changing ...</td>\n",
              "      <td>0.700000</td>\n",
              "      <td>0.468182</td>\n",
              "      <td>Positive</td>\n",
              "    </tr>\n",
              "    <tr>\n",
              "      <th>...</th>\n",
              "      <td>...</td>\n",
              "      <td>...</td>\n",
              "      <td>...</td>\n",
              "      <td>...</td>\n",
              "    </tr>\n",
              "    <tr>\n",
              "      <th>195</th>\n",
              "      <td>What’s the latest when it comes to protecting ...</td>\n",
              "      <td>0.510714</td>\n",
              "      <td>0.303571</td>\n",
              "      <td>Positive</td>\n",
              "    </tr>\n",
              "    <tr>\n",
              "      <th>196</th>\n",
              "      <td>In recognition of HispanicHeritageMonth, learn...</td>\n",
              "      <td>0.500000</td>\n",
              "      <td>0.500000</td>\n",
              "      <td>Positive</td>\n",
              "    </tr>\n",
              "    <tr>\n",
              "      <th>197</th>\n",
              "      <td>As the threat of InfectiousDiseases grows, The...</td>\n",
              "      <td>0.500000</td>\n",
              "      <td>0.333333</td>\n",
              "      <td>Positive</td>\n",
              "    </tr>\n",
              "    <tr>\n",
              "      <th>198</th>\n",
              "      <td>78486298 If you are interested in employment w...</td>\n",
              "      <td>0.350000</td>\n",
              "      <td>0.250000</td>\n",
              "      <td>Positive</td>\n",
              "    </tr>\n",
              "    <tr>\n",
              "      <th>199</th>\n",
              "      <td>In a recent interview with BioCentury (), Pfiz...</td>\n",
              "      <td>0.375000</td>\n",
              "      <td>0.250000</td>\n",
              "      <td>Positive</td>\n",
              "    </tr>\n",
              "  </tbody>\n",
              "</table>\n",
              "<p>200 rows × 4 columns</p>\n",
              "</div>"
            ],
            "text/plain": [
              "                                                Tweets  ...  Analysis\n",
              "0    : Every day, I’m asked variations of the same ...  ...  Positive\n",
              "1    PfizerProud to announce that our scientists ha...  ...  Positive\n",
              "2    We’re applying scientific innovation to help f...  ...  Positive\n",
              "3    : Terrific to see this message outside our off...  ...  Positive\n",
              "4    A weekend away in nature can be life changing ...  ...  Positive\n",
              "..                                                 ...  ...       ...\n",
              "195  What’s the latest when it comes to protecting ...  ...  Positive\n",
              "196  In recognition of HispanicHeritageMonth, learn...  ...  Positive\n",
              "197  As the threat of InfectiousDiseases grows, The...  ...  Positive\n",
              "198  78486298 If you are interested in employment w...  ...  Positive\n",
              "199  In a recent interview with BioCentury (), Pfiz...  ...  Positive\n",
              "\n",
              "[200 rows x 4 columns]"
            ]
          },
          "metadata": {
            "tags": []
          },
          "execution_count": 15
        }
      ]
    },
    {
      "cell_type": "code",
      "metadata": {
        "colab": {
          "base_uri": "https://localhost:8080/"
        },
        "id": "FyBxyXxpsZbl",
        "outputId": "b9108878-d19e-4dc9-c609-829189230ce2"
      },
      "source": [
        "# Printing positive tweets \r\n",
        "print('Printing positive tweets:\\n')\r\n",
        "j=1\r\n",
        "sortedDF = df.sort_values(by=['Polarity']) #Sort the tweets\r\n",
        "for i in range(0, sortedDF.shape[0] ):\r\n",
        "  if( sortedDF['Analysis'][i] == 'Positive'):\r\n",
        "    print(str(j) + ') '+ sortedDF['Tweets'][i])\r\n",
        "    print()\r\n",
        "    j= j+1"
      ],
      "execution_count": 16,
      "outputs": [
        {
          "output_type": "stream",
          "text": [
            "Printing positive tweets:\n",
            "\n",
            "1) : Every day, I’m asked variations of the same question: How will  &amp; _Group rapidly, seamlessly distribute o…\n",
            "\n",
            "2) PfizerProud to announce that our scientists have dosed the first patients in a Phase 2 trial. This is a novel investigational medicine that is being researched for restoration of bone growth in children born with Achondroplasia, the most common form of dwarfism. Learn more:\n",
            "\n",
            "3) We’re applying scientific innovation to help fight climate change by reducing our carbon emissions and the environmental impact of our medicines. Learn more about our renewed climate action commitments here: \n",
            "\n",
            "4) : Terrific to see this message outside our office in Collegeville, PA. I’m sure it brought joy to our colleagues there. Th…\n",
            "\n",
            "5) A weekend away in nature can be life changing for women with BreastCancer. We’re joining 4Recovery on Dec 16 at 12pm ET on Facebook and LinkedIn for a live discussion about how they use fly fishing as a form of therapy.  HealthEquity \n",
            "\n",
            "6) Pfizer is proud to support independent initiatives to improve patient outcomes through our competitive grants program in inflammation &amp; immunology. Learn about these programs from Ehab Mahgoub, MS, MSc, VP of I&amp;I at Pfizer  \n",
            "\n",
            "7) 📸: The first shipment from our Kalamazoo plant.   \n",
            ".\n",
            ".\n",
            "The Pfizer-BioNTech COVID19 vaccine has not been approved or licensed by the _FDA but has been authorized for emergency use to prevent COVID-19 in individuals 16+. See conditions of use:  \n",
            "\n",
            "8) UPDATE: The 's Advisory Committee on Immunization Practices (ACIP) voted today to recommend the use of the Pfizer-_Group COVID19 mRNA vaccine, in people 16 years of age and older.\n",
            "\n",
            "More:   \n",
            "\n",
            "9)  Thanks, . 💙 Together, WeStandWithScience.\n",
            ".\n",
            ".\n",
            "The Pfizer-BioNTech COVID-19 vaccine has not been approved or licensed by the U.S. FDA but has been authorized for emergency use to prevent COVID-19 in individuals 16+. See conditions of use: \n",
            "\n",
            "10) : Community health workers play an important role in connecting communities with health information and services in Indonesia. @…\n",
            "\n",
            "11) The story of how Pfizer delivered a COVID19 vaccine.\n",
            "\n",
            "The Pfizer-BioNTech COVID-19 vaccine has not been approved or licensed by the _FDA but has been authorized for emergency use to prevent COVID-19 in individuals 16 &amp; older. See conditions of use:  \n",
            "\n",
            "12) NEWS: The Pfizer-_Group COVID19 vaccine has not been approved or licensed by the _FDA but has been authorized for emergency use to prevent COVID-19 in individuals 16 &amp; older. See conditions of use:  \n",
            "\n",
            "13) How can today’s PublicHealth crisis help prepare us for the next one? Ahead of UHCDay, read more in  from Darren Back about how strengthening health systems can help us prevent the next GlobalHealth emergency:  InfectiousDiseases \n",
            "\n",
            "14) NEWS:  published safety and final efficacy results from the Phase 3 trial of our COVID19 vaccine, developed w/ _Group, confirming the candidate was well tolerated &amp; demonstrated a 95% efficacy in those who participated in the trial.  \n",
            "\n",
            "15) Innovative technologies like mRNA vaccines, currently being investigated, may be critical in the fight against COVID19 — watch to learn more. \n",
            "\n",
            "16) Investigator sponsored research is essential to advancing medical and scientific knowledge about treatment. That’s why Pfizer supports independent research studies in inflammation &amp; immunology through our grants program. Check out this video to learn more. \n",
            "\n",
            "17) Obesity is a serious disease that is linked to many life-threatening health conditions, including heart disease. \n",
            "\n",
            "18) We are proud to be one of the 70+ companies involved in ’s CatalystForChange initiative. Progress for diversity, equity &amp; inclusion depends on accountability. Hear from our CEO  below and learn more at  \n",
            "\n",
            "19) Of the billions invested in breastcancer research, only a fraction goes to metastaticbreastcancer. For us, nothing is more personal, or more urgent, than finding cures for this deadly disease. Here’s how we’re partnering 🤝 with the healthcare community:  \n",
            "\n",
            "20) On Nov 20, we submitted a request to _FDA for Emergency Use Authorization of our investigational COVID19 vaccine with _Group.\n",
            " \n",
            "What is an EUA? 💭 Commissioner  shares more. \n",
            "\n",
            "21) _biobank: UKBiobank launches a new scientific study measuring circulating proteins to better understand the link between genetics a…\n",
            "\n",
            "22) The Pfizer Foundation is supporting organizations serving the African American community with 10 new grants to advance healthequity and strengthen health systems. \n",
            "\n",
            "Learn more here:  \n",
            "\n",
            "Equity PfizerProud \n",
            "\n",
            "23) @_flying_saucer Thank you for reaching out.  To contact us directly, please visit \n",
            "\n",
            "24) UPDATE: The  issued a temporary authorization for emergency use of our COVID19 vaccine with _Group in the United Kingdom.\n",
            "\n",
            "This marks the first authorization of a vaccine to help fight the pandemic following a worldwide trial.\n",
            "\n",
            "25) What are the best ways to manage the combination of eczema and stress? Read tips from Pfizer’s Dr. Mark Levenberg.\n",
            "\n",
            "26) Join Pfizer for a virtual HealthcarePartneringWeek from January 11-15, 2021 where we will discuss partnership and collaboration opportunities to bring breakthrough therapies and vaccines to patients. Learn more about partnering with Pfizer at  \n",
            "\n",
            "27) Q: How will you ensure consistent high-quality standards throughout the manufacturing and supply chain processes? (6/7)\n",
            "\n",
            "A: \n",
            "\n",
            "28) Q: Are Pfizer and BioNTech able to manufacture enough vaccine doses? (5/7)\n",
            "\n",
            "A: \n",
            "\n",
            "29) Q: If the Pfizer and BioNTech COVID-19 vaccine candidate is authorized for emergency use in the U.S., who will receive it first? (3/7)\n",
            "\n",
            "A: \n",
            "\n",
            "30) Our Global President of Vaccines, Nanette Cocero, joined ’s annual Health Summit to talk about removing barriers to Latino participation in COVID19 vaccine trials. Learn more here:  CHCISummit LatinoLeadership Equity \n",
            "\n",
            "31) You inherit more than looks from relatives. Why is it important to know your family health history?   \n",
            "\n",
            "32) As part of our commitment to supporting the raredisease community for over 30 years, learn how we maintain rigorous safety &amp; quality checks into our manufacturing process to deliver high-quality treatments to those who need them most: \n",
            "\n",
            "33) You might be aware of the term “antimicrobial resistance” and, possibly the steps you can take to help reduce its spread... But what do you know about antimicrobial surveillance, and the role that it can play to help StopSuperbugs? 🦠 Learn more below: \n",
            "\n",
            "34) How clean are your hands? We all know handwashing can help stop a virus in its tracks, but did you know it can StopSuperbugs too? Watch below for the best handwashing technique to tackle germs WAAW2020 🧼 \n",
            "\n",
            "35) Innovative technologies like mRNA vaccines, currently being investigated, may be critical in the fight against COVID19 — watch to learn more. \n",
            "\n",
            "36) Vaccines are a key tool in the fight against AMR. By helping to prevent certain infectious diseases, they can help to reduce the need to take antibiotics in the first place.  Learn more about how this works below WAAW2020 StopSuperbugs ActAgainstAMR \n",
            "\n",
            "37) Our Multicultural Center of Excellence is proud to partner with the National Congress of American Indians to discuss PfizerRxPathways and ways to address patient access gaps at the 1944 77th Annual Convention meeting. Learn more:  HealthEquity \n",
            "\n",
            "38) Tune in to _Health Total Health tmrw at 10:30am ET, to hear Angela Hwang share how Pfizer became an early mover in finding a COVID19 vaccine, &amp; what goes into launching a vaccine during the pandemic, assuming regulatory authorization or approval.  \n",
            "\n",
            "39) Think you know how to take antibiotics responsibly? To help StopSuperbugs, which of the following statements is true about antibiotics:\n",
            "\n",
            "40) Antimicrobial medicines, especially antibiotics, are one of the most important discoveries in medical history  but their overuse has enabled some bacteria to develop resistance to them.1 During WAAW2020, learn about responsible antimicrobial use below and help us StopSuperbugs \n",
            "\n",
            "41) We are proud to support the LGBTQ community both within our Pfizer community and beyond. Being an ally is an ongoing process, and in recognition of TransAwarenessWeek we ask you to join us in focusing on how we can all advocate for trans and nonbinary people. \n",
            "\n",
            "42) : We are thrilled to be working with  on our COVID19 Immunization Pilot Program. To build on our coordination…\n",
            "\n",
            "43) : We are very pleased to be working alongside  in paving the way for distribution of our potential vaccine, if a…\n",
            "\n",
            "44) Many antibiotics are becoming ineffective as bacteria continue to evolve. Learn about our data-driven partnerships w/   &amp;  to combat this global health threat WAAW2020 StopSuperbugs\n",
            "\n",
            "45) KnowTheFacts: Answers to your biggest questions about the progress of our COVID19 vaccine candidate &amp; more information on next steps.\n",
            "\n",
            "46) Antimicrobial resistance, or AMR, is a growing public health issue.1 But each of us can take small steps today to help reduce the spread of AMR, like regular hand washing and using antibiotics as directed by your doctor. Learn more here 👇 WAAW2020 ActAgainstAMR \n",
            "\n",
            "47) Additionally, the safety milestone required by _FDA for Emergency Use Authorization (EUA) has been achieved. To date, no serious safety concerns related to the vaccine candidate have been reported.\n",
            "\n",
            "48) The study reached 170 confirmed cases of COVID19, with the vaccine candidate BNT162b2 demonstrating 95% efficacy beginning 28 days after the first dose.\n",
            "\n",
            "49) BREAKING: We are proud to announce, along with _Group, that the Phase 3 study of our COVID19 vaccine candidate has met all primary efficacy endpoints.\n",
            "\n",
            "50) At Pfizer, we are working to “Undo Underrepresented” in clinical trials and improve awareness and access for all patients. Learn more about our efforts here:  \n",
            "\n",
            "51) As a  member, Pfizer is committed to working with biopharma peers to help address health inequities and build a system of scientific innovation that better serves all patients. Learn more about the industry-wide statement of principles here:  \n",
            "\n",
            "52) AFib is the most common type of irregular heartbeat and is a significant risk factor for stroke. Check out  this GlobalAFAwareWeek to learn more about the condition.\n",
            "\n",
            "53) According to , Cdiff infection is an urgent public health threat. To help raise awareness, in partnership with Pfizer, a group of experts recently launched the C. difficile Awareness Initiative. Learn more about their work:\n",
            "\n",
            "54) At 2:05 PM ET  will join  at the STATSummit for a live discussion about Pfizer's COVID19 vaccine development program &amp; more. Details here:  \n",
            "\n",
            "55) Tune in to 's  Online Summit at 1 PM ET to hear from  as he takes the virtual stage with ,  &amp; .\n",
            "\n",
            "Register here to join for free 👇\n",
            " \n",
            "\n",
            "56) Biomarkers have revolutionized lungcancer treatment, especially those with NSCLC. But what exactly are biomarkers? And why do they hold such valuable information? Pfizer expert explains here:\n",
            "\n",
            "57) Our CEO  discusses the staggering economic, health, and equity effects of the pandemic. Read more on the value that rapid, reliable delivery of a potential COVID19 vaccine could bring:\n",
            "\n",
            "58) DYK your ABCs? It’s important for people with type 2 diabetes to keep their ABCs (A1C, blood pressure &amp; cholesterol) under control and manage their diabetes to reduce their risk of complications, such as CVD, stroke and serious illness related to COVID19. AHA2020 \n",
            "\n",
            "59) Race &amp; age can play a factor in both cancer diagnosis &amp; treatment. Learn how we’re helping address these disparities in older people living with lungcancer. LCAM HealthEquity \n",
            "\n",
            "60) : I am thrilled to hear the good news coming out of _tx’s COVID19 vaccine development program. Our companies share…\n",
            "\n",
            "61) Your risk of becoming seriously ill from COVID19 is likely to be lower if your type 2 diabetes is well managed. A healthy lifestyle is a key element of a T2D management plan AHA2020. \n",
            "\n",
            "62) Having type2diabetes can feel overwhelming, but collaborating with a health care team can help patients with their daily management plan. WorldDiabetesDay \n",
            "\n",
            "63) Thank you to the millions of nurses worldwide for making the difference by supporting people with type2diabetes. WorldDiabetesDay NursesMakeTheDifference \n",
            "\n",
            "64) We are proud to support partners like  in combatting the effects of COVID19. Learn more:  \n",
            "\n",
            "65) Antimicrobials, especially antibiotics, are becoming less effective as bacteria develop resistance to them.  But surveillance, prevention, appropriate treatment &amp; education can help us fight back! This WAAW2020 we’ll be sharing tips on how to ActNow to StopSuperbugs 🧫 \n",
            "\n",
            "66) Our Oncology Global President &amp; General Manager  spoke w/  about how we can modernize our healthcare system to better serve people living w/ cancer. Read more here:\n",
            "\n",
            "67) To our veterans in Pfizer, to all those who have served, and those who continue to serve: Happy VeteransDay 🇺🇸\n",
            "\n",
            "68) As COVID19 continues to impact communities in the US and around the world, The Pfizer Foundation is providing support to slow the spread of the pandemic and meet front line needs of partners. Learn more:  InfectiousDiseases \n",
            "\n",
            "69) : Just as important as developing a safe, effective COVID19 vaccine is getting it in the hands of people around the world.…\n",
            "\n",
            "70) How to protect yourself and others? Everyone should continue to 👇\n",
            "\n",
            "☀️ Keep activities &amp; celebrations outside\n",
            "😷 Wear a face covering\n",
            "📏 Maintain a safe social distance\n",
            "❌ Avoid large groups &amp; gatherings\n",
            "\n",
            "➡️: \n",
            "\n",
            "71) Yesterday’s news was a first but critical step as we continue our work to try to deliver a safe and effective vaccine.\n",
            "\n",
            "But around the world 🌍, infection rates are setting new records 📈, hospitals are nearing over-capacity 🏥 and economies are struggling to reopen 🌐.\n",
            "\n",
            "72) People with Type2Diabetes are at greater risk of developing high blood pressure, which may lead to serious complications like heart attack or stroke. Share to spread awareness. DiabetesAwarenessMonth NDAM\n",
            "\n",
            "73) A scientist 👩🏽‍🔬 can spend months working on a new experiment to find out that it doesn’t work. See how our colleagues handle these roadblocks &amp; continue to come up with new ways to do research 🔬. WorldScienceDay  \n",
            "\n",
            "74) Leading up to WorldScienceDay, see what motivates our colleagues to discover new medicines. 🧪  \n",
            "\n",
            "75) There are 3 critical areas where we must demonstrate success before filing for EUA of our COVID19 vaccine\n",
            "\n",
            "▶️ Evidence of efficacy in most vaccinated patients\n",
            "\n",
            "▶️ Evidence of safety w/ data from thousands of patients\n",
            "\n",
            "▶️ Manufactured consistently at the highest quality standards\n",
            "\n",
            "76) : We welcome the encouraging vaccine news from  &amp; _Group &amp; salute all scientists &amp; partners around the 🌍 who ar…\n",
            "\n",
            "77) This is a first but critical step as we continue our work to try to deliver a safe and effective COVID19 vaccine.\n",
            "\n",
            "78) Efficacy in the majority of participants, safety data and consistent manufacturing are the three requirements that are needed before we are able to file for Emergency Use Authorization.\n",
            "\n",
            "79) UPDATE: We are proud to announce, along with _Group, that our mRNA-based vaccine candidate has, at an interim analysis, demonstrated initial evidence of efficacy against COVID19 in participants without prior evidence of SARS-CoV-2 infection.\n",
            "\n",
            "80) Want to know what life is like for one of our scientists? Follow along to learn more about Kristin Tompkins, a senior scientist 👩🏻‍🔬 at Pfizer, who works in viral vaccines. NationalSTEMDay \n",
            "\n",
            "81) 78 Thank you for reaching out.  To contact us directly, please visit \n",
            "\n",
            "82) _X If you are interested in employment with Pfizer, please visit  Thanks for your interest!\n",
            "\n",
            "83) The right to vote is one of the bedrocks of our democracy, granting us the priceless opportunity to make our voice heard. Whether you’re able to vote early, send your ballot by mail, or going to visit the polls on election day, make a plan and make a stand Election2020 Vote2020 \n",
            "\n",
            "84) Wishing you all a happy (and especially safe) Halloween! Drop a 🎃 below if you’ve already carved your Jack (or Jill)-O’-Lantern (or are planning to this weekend)! \n",
            "\n",
            "85) Though COVID19 may present challenges, it’s important for people living with chronic pain due to osteoarthritis to exercise to help reduce pain and improve function. \n",
            "\n",
            "86) Interested in our latest understanding of the role of the JAK pathway in AtopicDermatitis? Join us at our symposia session tonight at EADVVirtual. PfizerCaresAD \n",
            "\n",
            "87) During PBW20, we recognize 60+ PfizerColleagues and 10+ partner organizations finding new ways to make an impact through our 2020 virtual skills-based volunteer program. Learn more:  \n",
            "\n",
            "88) . 🇨🇦 colleagues, along w/ advocacy partners, launched It’s About mBC Time, dedicated to raising awareness, educating &amp; sharing resources about metastaticbreastcancer. See more here: \n",
            "\n",
            "BreastCancerAwarenessMonth\n",
            "BCAM \n",
            "\n",
            "89) We are honored to have our medicine for the treatment of people living with ATTR-CM named the Best Biotechnology Product at the 2020 PrixGalien USA Awards hosted by . PfizerProud \n",
            "\n",
            "90) IWearBecauseICare to tell us how you're doing your part to curb the spread of COVID19 by practicing social distancing 📏 frequently washing your hands 🧼 &amp; wearing a mask 😷\n",
            "\n",
            "📍 Rocky Mount, North Carolina \n",
            "\n",
            "91) Grateful &amp; humbled to share 4 virtual days w/35+ advocates discussing countless ideas, but there’s more work to do. Stay tuned for all the ways we can continue to work together to make an impact on breastcancer patients.🥰\n",
            "\n",
            "BreastCancerImpact\n",
            "BreastCancerAwarenessMonth \n",
            "BCAM \n",
            "\n",
            "92) In collaboration w/ advocacy leaders around the🌍, we’ve been building action plans for breastcancer patients. These are the questions❓that will help us get there. \n",
            "\n",
            "BreastCancerImpact\n",
            "BreastCancerAwarenessMonth \n",
            "BCAM \n",
            "\n",
            "93) Learn about a new steroid-free treatment option for mild to moderate AtopicDermatitis at our symposia session tonight at EADVVirtual. PfizerCaresAD \n",
            "\n",
            "94)  Thanks for stopping by, ! It was great to hear you reiterate the importance of collaboration in breastcancer care.\n",
            "\n",
            "95) Attending EADVVirtual? For the first time at EADV, we’re excited to bring you four virtual booths that share the latest on our work in dermatology. Check it out:  \n",
            "\n",
            "96) Antimicrobial surveillance &amp; tracking help reduce the spread of infection. We are now proud to offer our industry-recognized antimicrobial resistance (AMR) surveillance tool ATLAS as a free mobile app – check it out on your IOS or Android device! \n",
            "\n",
            "97) A Stroke is a form of disability that many people experience in the United States. For WorldStrokeDay take steps to learn about the risk factors, such as AFib, from .\n",
            "\n",
            "98) We are energized by the creative ideas from today’s conversation that could help people living w/ breastcancer around the world 🌎 get the personalized care they need. Here are just a few:\n",
            "\n",
            "BreastCancerImpact\n",
            "BreastCancerAwarenessMonth\n",
            "BCAM \n",
            "\n",
            "99) DYK that health literacy is how a patient can understand and act on health information. Join us in raising awareness around health literacy. Learn more:  HealthLiteracyMonth \n",
            "\n",
            "100) . &amp; Conchi Biurrun of _ led us into an exciting discussion around breastcancer patient support programs. These are some of the important questions we're working on together to answer. Let’s get brainstorming!🧠\n",
            "\n",
            "BreastCancerImpact\n",
            "BreastCancerAwarenessMonth \n",
            "\n",
            "101) We’re at our best when we learn from each other 🤝. Global BreastCancerImpact Summit Day 3 is here &amp; Cathy Ammendolea of  shares her experience launching a digital navigation tool in Canada 🇨🇦. \n",
            "\n",
            "BreastCancerAwarenessMonth \n",
            "BCAM \n",
            "\n",
            "102) DYK low health literacy makes it hard to discuss, evaluate and act on health information? Join us in raising awareness around health literacy. Learn more:  HealthLiteracyMonth \n",
            "\n",
            "103) Today we launched the NoTimetoWait campaign to raise awareness about the symptoms of AFib, a type of irregular heartbeat, and DVT, a blood clot in a deep vein. Learn more about these potentially serious conditions and talk with a doctor if experiencing symptoms.\n",
            "\n",
            "104) Pfizer’s Multicultural Center of Excellence partnered w Dr Alejandro Cané, Head of Vaccines Medical &amp; Scientific Affairs, to discuss COVID19 vaccine hesitancy &amp; patient education w Hispanic healthcare providers at 's regional meeting. Learn more:  \n",
            "\n",
            "105) The FindYourMBCVoice treatment discussion guide is just one of our many resources📝aimed to empower women &amp; men living with metastaticbreastcancer to take an active role in their care. Learn more about this guide: \n",
            "\n",
            "BreastCancerAwarnessMonth\n",
            "BCAM \n",
            "\n",
            "106)  If you are interested in employment with Pfizer, please visit  Thanks for your interest!\n",
            "\n",
            "107) Câncer Não Faz Quarentena, a program from  🇧🇷 aims to generate awareness on the importance of seeing a doctor during the COVID19 pandemic to avoid disruptions in treatment. Learn more about this: \n",
            "\n",
            "BreastCancerAwarenessMonth\n",
            "BCAM\n",
            "oncología \n",
            "\n",
            "108) Consider yourself a science enthusiast? Drop a 🙋🏻‍♂️🙋🏾‍♀️🙋🏽🙋🏼‍♀️🙋🏿‍♂️ in the comments if you know what Avogadro’s number is 🤔🧠💭 and Happy Mole Day! \n",
            "\n",
            "109) October is HealthLiteracyMonth and we’re highlighting how Healthcare Providers (HCPs) have a responsibility to communicate health information in a way that supports shared health decision making. Learn more:  \n",
            "\n",
            "110) In a recent article for BiopharmaCareers, Nanette Cocero shares the importance of signing TheHispanicPromise and how it aligns to our Purpose – breakthroughs that change patients’ lives. HispanicHeritageMonth EquityatPfizer. \n",
            "\n",
            "Learn more:  \n",
            "\n",
            "111) Today centered around powerful conversations on how to overcome challenges in supporting breastcancer patients' involvement with policy advocacy decisions. Here’s an idea 💡 we would certainly get behind! \n",
            "\n",
            "BreastCancerImpact\n",
            "BreastCancerAwarenessMonth \n",
            "BCAM \n",
            "\n",
            "112) Policy advocacy is one of the most powerful ways we can use our voices to make an impact for breastcancer patients. 7 of  remarks on the importance of advocates speaking up. 🗣\n",
            "\n",
            "BreastCancerImpact\n",
            "BreastCancerAwarenessMonth \n",
            "BCAM \n",
            "\n",
            "113) Global BreastCancerImpact Summit Day 2! How do we make an impact through policy advocacy? Special guest  of   shared what he thinks are the most effective tools for driving policy change. What do you think? \n",
            "\n",
            "BreastCancerAwarenessMonth\n",
            "BCAM\n",
            "\n",
            "114) We are PfizerProud to partner with Algeria’s Ministry of Higher Education to support and promote training and research in pharmaceutical &amp; biotechnology disciplines. \n",
            "\n",
            "115) Our Finland colleagues 🇫🇮 are highlighting what it’s like to live with advanced breastcancer by sharing stories of women living with the disease through their site: Terveydentukena. Read their stories: \n",
            "\n",
            "BreastCancerAwarenessMonth\n",
            "BCAM\n",
            " \n",
            "\n",
            "116) LIVE NOW at : Angela Hwang discusses Pfizer’s patient focus:  MIGlobal MIMeetingtheMoment \n",
            "\n",
            "117) Caregivers and family members can play an important role in supporting loved ones. Hear from Ann and her daughter Lizzie on the impact that osteoarthritis has had on their relationship. \n",
            "\n",
            "118) Our Angela Hwang is going live soon at 2:45 PM ET to talk about innovations in access and patient care that are moving the needle for millions of people! Join here:  MIGlobal MIMeetingtheMoment \n",
            "\n",
            "119) How comfortable are you being completely open with your doctor about your RA symptoms?\n",
            "\n",
            "120) 4622521 Thank you for reaching out.  To contact us directly, please visit \n",
            "\n",
            "121) So many great ideas coming out of our Global BreastCancerImpact Summit today to create more patient-centric approaches to clinicaltrial design &amp; participation. Here’s some of what we came up with. What other approaches would you like to see?🤔\n",
            "\n",
            "BreastCancerAwarenessMonth\n",
            "BCAM \n",
            "\n",
            "122) Tune in to the  Global Conference tomorrow to hear Angela Hwang speak live about why we need breakthroughs in medicine and beyond—including innovations in patient awareness, access and end-to-end care. MIGlobal MIMeetingtheMoment\n",
            "\n",
            "123) Shirley Mertz of  reminds us to be hopeful when it comes to clinicaltrials. Here's what she thinks is the key🔑to developing meaningful treatments: \n",
            "\n",
            "BreastCancerImpact\n",
            "BreastCancerAwarenessMonth2020 \n",
            "BCAM \n",
            "\n",
            "124) In Germany 🇩🇪, Es Geht Um Mich aims to provide info on available treatment options to ensure people w/ metastaticbreastcancer feel empowered to have conversations with their doctors. See here: \n",
            "\n",
            "_DE\n",
            "Brustkrebsmonat\n",
            "BreastCancerAwarenessMonth\n",
            "BCAM \n",
            "\n",
            "125) After Roger was diagnosed with NASH, he knew he needed to adopt a heathier lifestyle to help manage this serious, progressive liver disease. Watch to learn more about Roger’s story. LiverAwarenessMonth \n",
            "\n",
            "126) Our Chief Patient Officer, Dr. Dara Richardson-Heron, is joined by Dr. Gary Puckrein, President &amp; CEO of , to discuss the disproportional impact of COVID19 for people of color &amp; actions being taken to help remedy the many disparities. ScienceWillWin \n",
            "\n",
            "127) To really move the needle for patients, health innovation has to go beyond the lab to impact patient access and ongoing care. Get ready to hear Angela Hwang speak live about this at the  Global Conference on Weds. MIGlobal MIMeetingtheMoment\n",
            "\n",
            "128) This WorldMenopauseDay, share this six-episode podcast series with a woman (or man) in your life to help them unmutemenopause. Listen to their stories at  or subscribe via major podcast apps.\n",
            "\n",
            "menopause womenshealth hotflashes menopauseunmuted \n",
            "\n",
            "129) Congratulations! 👏 Angela Hwang, Group President of Pfizer Biopharmaceuticals, is 16 on ’s Most Powerful Women list in 2020. PfizerProud FortuneMPW \n",
            "\n",
            "130) As We Age, a feature within our This is Living with Cancer program, includes resources, education &amp; encouragement for older people living w/ cancer &amp; their caregivers. Learn about this &amp; other resources available: \n",
            "\n",
            "BreastCancerAwarenessMonth\n",
            "BCAM \n",
            "\n",
            "131) Our colleagues in Japan 🇯🇵 launched My Choice to help people living with breastcancer manage their disease by providing practical tools &amp; information. Learn more about this new program &amp; other available resources: \n",
            "\n",
            "BreastCancerAwarenessMonth \n",
            "BCAM \n",
            "\n",
            "132) Meet Sherry, a former INROADS intern, who shares how  helped to shape her career journey and learn more about our commitment to developing inclusive internships, here:  \n",
            "\n",
            "133) Our partnership with  began in 1998 and, now, we’re excited to expand that partnership over the next several years to help advance EquityatPfizer. Learn more:  Equity DEI \n",
            "\n",
            "134) Learn how The Pfizer Foundation is supporting partners like , @2020MicroClinic,  and others to accelerate community-based innovations in InfectiousDiseases, particularly in low-resource settings  GlobalHealth \n",
            "\n",
            "135) PfizerProud to be in good company with @100BlackMen, ,  &amp;  and partner with Take Action for Health.\n",
            " \n",
            "Take Action for Health is a collaboration of orgs with the common goal of eliminating health disparities in the African American community:\n",
            "\n",
            "136) The world is waiting for a safe and effective COVID19 vaccine. Today our Chairman &amp; CEO penned an open letter to help people understand the criteria we must meet and the expected timelines for our investigational vaccine program. \n",
            "\n",
            "137) Meet Krys Molina, a young Latina who works as a Data Science Associate at Pfizer. Watch this video and learn more about diversity, equity and inclusion at Pfizer, here:  \n",
            "\n",
            "138) Partnership is key to address globalhealth challenges.  shares learnings from our longstanding collaboration w/ , ,  &amp; others to help protect the ~2M people impacted by trachoma. Learn more:\n",
            "GlobalHandWashingDay \n",
            "\n",
            "139) Cardiovascular disease (CVD) is the leading cause of death globally. Upjohn, a division of Pfizer, is supporting WorldHypertensionDay by providing education to healthcare providers through the NCDAcademy:  \n",
            "\n",
            "140) What’s the latest when it comes to protecting yourself and your family from getting COVID19? Here are some smart suggestions from our Chief Medical Officer to help stay safe and well during this pandemic. \n",
            "\n",
            "141) In recognition of HispanicHeritageMonth, learn more about the Pfizer Latino colleagues who are making a difference in the fight against COVID19, here:\n",
            "\n",
            "EquityatPfizer\n",
            "ProudToBeLatino\n",
            "YoMeCuido\n",
            "\n",
            "142) As the threat of InfectiousDiseases grows, The Pfizer Foundation Global Health Innovation Grants support community-based partners to accelerate innovative solutions that tackle today’s biggest GlobalHealth challenges. \n",
            "\n",
            "Learn more:  \n",
            "\n",
            "143) 78486298 If you are interested in employment with Pfizer, please visit  Thanks for your interest!\n",
            "\n",
            "144) In a recent interview with BioCentury (), Pfizer’s Rod MacKenzie () shared the impact of the COVID19 pandemic on driving innovation in clinical trials.\n",
            "\n",
            "Read this article to learn more:  \n",
            "\n"
          ],
          "name": "stdout"
        }
      ]
    },
    {
      "cell_type": "code",
      "metadata": {
        "colab": {
          "base_uri": "https://localhost:8080/"
        },
        "id": "bIoX26PDsjIh",
        "outputId": "86488928-8077-49f8-eaf3-15617000bc1c"
      },
      "source": [
        "# Printing negative tweets  \r\n",
        "print('Printing negative tweets:\\n')\r\n",
        "j=1\r\n",
        "sortedDF = df.sort_values(by=['Polarity'],ascending=False) #Sort the tweets\r\n",
        "for i in range(0, sortedDF.shape[0] ):\r\n",
        "  if( sortedDF['Analysis'][i] == 'Negative'):\r\n",
        "    print(str(j) + ') '+sortedDF['Tweets'][i])\r\n",
        "    print()\r\n",
        "    j=j+1"
      ],
      "execution_count": 17,
      "outputs": [
        {
          "output_type": "stream",
          "text": [
            "Printing negative tweets:\n",
            "\n",
            "1) What are the differences between the symptoms for COVID19 and other common respiratory viruses? Read:  \n",
            "\n",
            "2) What are the differences between the symptoms for COVID19 and other common respiratory viruses? Read:  \n",
            "\n",
            "3) Q: How is the cold chain distribution for the Pfizer-BioNTech investigational vaccine being managed? (7/7) \n",
            "\n",
            "A: \n",
            "\n",
            "4) 2020 has been a difficult year for many, but if you can’t shake the negative feelings, it may be a sign of chronicstress.  \n",
            "\n",
            "5) Let’s bust some myths about antibiotics! Always take antibiotics for as long as your doctor tells you and NEVER share them.  Plus, antibiotics have no effect on common colds, 6 which are caused by viruses WAAW2020 StopSuperbugs ActAgainstAMR🦠\n",
            "\n",
            "6) Cancer screenings have decreased due to COVID19, but cancer doesn’t wait. Doctors' offices are likely taking steps to make visits safer, from wearing masks to using virtual visits. Visit “Get It Done” to find resources for your next appointment.\n",
            "\n",
            "7) Type2Diabetes is a chronic disease that occurs when the body does not make or use insulin properly. Symptoms like excessive thirst, blurry vision and frequent infections may lead to severe complications and hospitalization. Help us spread awareness. DiabetesAwarenessMonth NDAM\n",
            "\n",
            "8) DYK over half of people with diabetes worldwide are undiagnosed. It’s important to stay informed about type2diabetes symptoms, which can sometimes be hard to spot. \n",
            "\n",
            "9) Obesity is a serious disease characterized by excessive weight or body fat that may affect an individual’s health. Learn more about the impact of this disease on patients.\n",
            "\n",
            "10) Our friends from the other side of the world, _nz of  🇳🇿 &amp; Jane Mahony of  🇦🇺, reminded us that no one should face a breastcancer diagnosis alone.\n",
            "\n",
            "BreastCancerImpact\n",
            "BreastCancerAwarenessMonth\n",
            "BCAM \n",
            "\n",
            "11) The liver is a football-sized organ that performs hundreds of critical functions. NASH, a disease which impacts liver function, can have serious health consequences. LiverAwarenessMonth \n",
            "\n",
            "12) In celebration of National Pharmacy Week 2020, the Pfizer Hospital Business Unit would like to express our sincerest gratitude for hospital pharmacists and pharmacy technicians. We thank you for your hard work, your dedication, and your continued partnership. PharmacyWeek \n",
            "\n"
          ],
          "name": "stdout"
        }
      ]
    },
    {
      "cell_type": "code",
      "metadata": {
        "colab": {
          "base_uri": "https://localhost:8080/",
          "height": 513
        },
        "id": "NGnJVGxQsykI",
        "outputId": "c5687f33-b25f-4e97-8f86-b1c49dee34a0"
      },
      "source": [
        "# Plotting \r\n",
        "plt.figure(figsize=(11,8)) \r\n",
        "for i in range(0, df.shape[0]):\r\n",
        "  plt.scatter(df[\"Polarity\"][i], df[\"Subjectivity\"][i], color='black') \r\n",
        "# plt.scatter(x,y,color)   \r\n",
        "plt.title('Sentiment Analysis') \r\n",
        "plt.xlabel('Polarity') \r\n",
        "plt.ylabel('Subjectivity') \r\n",
        "plt.show()"
      ],
      "execution_count": 21,
      "outputs": [
        {
          "output_type": "display_data",
          "data": {
            "image/png": "[encoded data removed]",
            "text/plain": [
              "<Figure size 792x576 with 1 Axes>"
            ]
          },
          "metadata": {
            "tags": [],
            "needs_background": "light"
          }
        }
      ]
    },
    {
      "cell_type": "code",
      "metadata": {
        "colab": {
          "base_uri": "https://localhost:8080/"
        },
        "id": "TCrWTu8dtM2E",
        "outputId": "156abf66-5405-4e7e-e198-c53de2f04cb4"
      },
      "source": [
        "# Print the percentage of positive tweets\r\n",
        "ptweets = df[df.Analysis == 'Positive']\r\n",
        "ptweets = ptweets['Tweets']\r\n",
        "ptweets\r\n",
        "\r\n",
        "round( (ptweets.shape[0] / df.shape[0]) * 1000 , 1)"
      ],
      "execution_count": 23,
      "outputs": [
        {
          "output_type": "execute_result",
          "data": {
            "text/plain": [
              "720.0"
            ]
          },
          "metadata": {
            "tags": []
          },
          "execution_count": 23
        }
      ]
    },
    {
      "cell_type": "code",
      "metadata": {
        "colab": {
          "base_uri": "https://localhost:8080/"
        },
        "id": "Ab-9KzCttmSa",
        "outputId": "d217fe15-54ce-4525-8aa2-2f3946ea1f10"
      },
      "source": [
        "# Print the percentage of negative tweets\r\n",
        "ntweets = df[df.Analysis == 'Negative']\r\n",
        "ntweets = ntweets['Tweets']\r\n",
        "ntweets\r\n",
        "\r\n",
        "round( (ntweets.shape[0] / df.shape[0]) * 1000, 1)"
      ],
      "execution_count": 24,
      "outputs": [
        {
          "output_type": "execute_result",
          "data": {
            "text/plain": [
              "60.0"
            ]
          },
          "metadata": {
            "tags": []
          },
          "execution_count": 24
        }
      ]
    },
    {
      "cell_type": "code",
      "metadata": {
        "colab": {
          "base_uri": "https://localhost:8080/"
        },
        "id": "UQu5muRztzkI",
        "outputId": "335a6364-7a04-4897-9195-8bcd51503f05"
      },
      "source": [
        "# Show the value counts\r\n",
        "df['Analysis'].value_counts()"
      ],
      "execution_count": 25,
      "outputs": [
        {
          "output_type": "execute_result",
          "data": {
            "text/plain": [
              "Positive    144\n",
              "Neutral      44\n",
              "Negative     12\n",
              "Name: Analysis, dtype: int64"
            ]
          },
          "metadata": {
            "tags": []
          },
          "execution_count": 25
        }
      ]
    },
    {
      "cell_type": "code",
      "metadata": {
        "colab": {
          "base_uri": "https://localhost:8080/",
          "height": 282
        },
        "id": "FAKvYW_ft_5k",
        "outputId": "a92149cf-5715-4c7f-f7bb-4f0e5b805898"
      },
      "source": [
        "# Plotting and visualizing the counts\r\n",
        "plt.title('Sentiment Analysis')\r\n",
        "plt.xlabel('Sentiment')\r\n",
        "plt.ylabel('Counts')\r\n",
        "df['Analysis'].value_counts().plot(kind = 'pie')\r\n",
        "plt.show()"
      ],
      "execution_count": 26,
      "outputs": [
        {
          "output_type": "display_data",
          "data": {
            "image/png": "[encoded data removed]",
            "text/plain": [
              "<Figure size 432x288 with 1 Axes>"
            ]
          },
          "metadata": {
            "tags": []
          }
        }
      ]
    },
    {
      "cell_type": "code",
      "metadata": {
        "id": "878hFPbhuRb6"
      },
      "source": [
        ""
      ],
      "execution_count": null,
      "outputs": []
    },
    {
      "cell_type": "code",
      "metadata": {
        "colab": {
          "base_uri": "https://localhost:8080/",
          "height": 296
        },
        "id": "33-7UzpmuSBW",
        "outputId": "76a833eb-5a30-4d84-d993-187e937a2b10"
      },
      "source": [
        "plt.title('Sentiment Analysis')\r\n",
        "plt.xlabel('Sentiment')\r\n",
        "plt.ylabel('Counts')\r\n",
        "df['Analysis'].value_counts().plot(kind = 'area')\r\n",
        "plt.show()"
      ],
      "execution_count": 30,
      "outputs": [
        {
          "output_type": "display_data",
          "data": {
            "image/png": "[encoded data removed]",
            "text/plain": [
              "<Figure size 432x288 with 1 Axes>"
            ]
          },
          "metadata": {
            "tags": [],
            "needs_background": "light"
          }
        }
      ]
    },
    {
      "cell_type": "code",
      "metadata": {
        "id": "OuOKuo9cvFE8"
      },
      "source": [
        ""
      ],
      "execution_count": null,
      "outputs": []
    }
  ]
}